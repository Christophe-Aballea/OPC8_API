{
 "cells": [
  {
   "cell_type": "markdown",
   "id": "20c43a0e-372c-4af5-b2bb-2479e04121ba",
   "metadata": {},
   "source": [
    "# Réalisez un dashboard\n",
    "## Notebook - Test de l'API  \n",
    "OpenClassrooms - Parcours Data Scientist - Projet 08  "
   ]
  },
  {
   "cell_type": "code",
   "execution_count": 48,
   "id": "04b8e732-b522-44d3-815a-116be94dd2a2",
   "metadata": {},
   "outputs": [],
   "source": [
    "import pandas as pd\n",
    "import numpy as np\n",
    "import requests\n",
    "import json\n",
    "import os\n",
    "import pickle\n",
    "import shap\n",
    "from flask import jsonify\n",
    "# import matplotlib.pyplot as plt"
   ]
  },
  {
   "cell_type": "code",
   "execution_count": null,
   "id": "f89a2c31-c335-40e8-a9f5-7b845855e20c",
   "metadata": {},
   "outputs": [],
   "source": [
    "# Graphique des valeurs SHAP\n",
    "def plot_shap_values(local_importance, feature_names, top_n=20):\n",
    "    # Créer un DataFrame à partir des valeurs SHAP et des noms des features\n",
    "    shap_values_df = pd.DataFrame({'Feature': feature_names, 'SHAP Value': local_importance})\n",
    "\n",
    "    # Trier par la valeur absolue des valeurs SHAP et sélectionner les top N\n",
    "    shap_values_df['Abs SHAP Value'] = np.abs(shap_values_df['SHAP Value'])\n",
    "    shap_values_df = shap_values_df.sort_values(by='Abs SHAP Value', ascending=False).head(top_n)\n",
    "\n",
    "    # Tracer les valeurs SHAP\n",
    "    plt.figure(figsize=(10, 8))\n",
    "    plt.barh(shap_values_df['Feature'], shap_values_df['SHAP Value'])\n",
    "    plt.xlabel('SHAP Value')\n",
    "    plt.title(f'Top {top_n} Feature importance locale (SHAP values)')\n",
    "    plt.gca().invert_yaxis()\n",
    "    plt.show()"
   ]
  },
  {
   "cell_type": "code",
   "execution_count": null,
   "id": "e59c500a-a7c7-4e33-9f90-9d80df8da869",
   "metadata": {},
   "outputs": [],
   "source": [
    "# Graphique de comparaison des features importance locale et globale\n",
    "def compare_feature_importance(local_importance, global_importance_df, top_n=20):\n",
    "    # Convertir les valeurs SHAP locales en DataFrame\n",
    "    local_importance_df = pd.DataFrame({'Feature': global_importance_df['Feature'], 'Local importance': local_importance})\n",
    "    \n",
    "    # Joindre les DataFrames d'importance locale et globale\n",
    "    comparison_df = global_importance_df.set_index('Feature').join(local_importance_df.set_index('Feature'))\n",
    "    \n",
    "    # Trier par la valeur absolue de l'importance locale et sélectionner les top N\n",
    "    comparison_df['Abs Local importance'] = np.abs(comparison_df['Local importance'])\n",
    "    comparison_df = comparison_df.sort_values(by='Abs Local importance', ascending=False).head(top_n)\n",
    "    \n",
    "    # Tracer la comparaison\n",
    "    fig, ax = plt.subplots(figsize=(10, 8))\n",
    "    comparison_df[['Global importance', 'Local importance']].plot(kind='barh', ax=ax)\n",
    "    ax.set_xlabel('Importance')\n",
    "    ax.set_title('Comparaison de l\\'importance des features (Globale vs Locale)')\n",
    "    plt.gca().invert_yaxis()\n",
    "    plt.show()\n"
   ]
  },
  {
   "cell_type": "code",
   "execution_count": 147,
   "id": "c407b472-f27a-428a-94ac-79d1d22b0be6",
   "metadata": {},
   "outputs": [],
   "source": [
    "# Nombre d'exemples à tester\n",
    "n_samples = 5"
   ]
  },
  {
   "cell_type": "code",
   "execution_count": 148,
   "id": "cc2daba8-5138-4dfd-aa61-63755fa39747",
   "metadata": {},
   "outputs": [],
   "source": [
    "# Récupération des données de test\n",
    "base_dir = os.getcwd()\n",
    "df_test_path = os.path.join(base_dir, '..', '..', 'P08 - Dashboard', 'data', 'raw', 'application_test.csv')\n",
    "df_test = pd.read_csv(df_test_path)"
   ]
  },
  {
   "cell_type": "code",
   "execution_count": 149,
   "id": "4da0ca2a-b671-4bfd-b879-81eece956351",
   "metadata": {},
   "outputs": [],
   "source": [
    "# Récupération du seuil de classification\n",
    "threshold_path = os.path.join(base_dir, '..', 'data', 'processed', 'best_threshold.txt')\n",
    "with open(threshold_path, 'r') as threshold_file:\n",
    "    best_threshold = float(threshold_file.read())"
   ]
  },
  {
   "cell_type": "code",
   "execution_count": 150,
   "id": "cf3048e5-dd0f-494d-ab10-3194688d1f49",
   "metadata": {},
   "outputs": [],
   "source": [
    "# Sélection aléatoire de n_samples exemples\n",
    "df_subset = df_test.sample(n_samples)"
   ]
  },
  {
   "cell_type": "code",
   "execution_count": 151,
   "id": "01e4dbf4-0f6b-4992-a5c4-3f5b564c46b9",
   "metadata": {},
   "outputs": [],
   "source": [
    "# Récupération des id clients\n",
    "sk_id_curr = df_subset['SK_ID_CURR'].astype('int')"
   ]
  },
  {
   "cell_type": "code",
   "execution_count": 152,
   "id": "39c63eab-2907-4c75-a6b4-f4f1e354d91a",
   "metadata": {},
   "outputs": [],
   "source": [
    "# Suppression des id clients\n",
    "df_subset = df_subset.drop(columns='SK_ID_CURR')"
   ]
  },
  {
   "cell_type": "code",
   "execution_count": 153,
   "id": "fe499372-0ffd-4894-98f9-6cc87dcc7277",
   "metadata": {},
   "outputs": [],
   "source": [
    "# Remplacement des valeurs manquantes par None (JSON n'accepte pas les NaN)\n",
    "df_subset =  df_subset.map(lambda x: None if pd.isna(x) else x)"
   ]
  },
  {
   "cell_type": "code",
   "execution_count": 154,
   "id": "05938801-e03c-4e31-9602-8a7bd4691903",
   "metadata": {},
   "outputs": [],
   "source": [
    "# Conversion au format JSON\n",
    "data_json = json.dumps({\n",
    "    \"columns\": df_subset.columns.tolist(),\n",
    "    \"data\": df_subset.values.tolist()}\n",
    ")"
   ]
  },
  {
   "cell_type": "code",
   "execution_count": 155,
   "id": "b31dd6f7-97ea-4918-af57-89d424e0ad5e",
   "metadata": {},
   "outputs": [
    {
     "data": {
      "text/plain": [
       "'{\"columns\": [\"NAME_CONTRACT_TYPE\", \"CODE_GENDER\", \"FLAG_OWN_CAR\", \"FLAG_OWN_REALTY\", \"CNT_CHILDREN\", \"AMT_INCOME_TOTAL\", \"AMT_CREDIT\", \"AMT_ANNUITY\", \"AMT_GOODS_PRICE\", \"NAME_TYPE_SUITE\", \"NAME_INCOME_TYPE\", \"NAME_EDUCATION_TYPE\", \"NAME_FAMILY_STATUS\", \"NAME_HOUSING_TYPE\", \"REGION_POPULATION_RELATIVE\", \"DAYS_BIRTH\", \"DAYS_EMPLOYED\", \"DAYS_REGISTRATION\", \"DAYS_ID_PUBLISH\", \"OWN_CAR_AGE\", \"FLAG_MOBIL\", \"FLAG_EMP_PHONE\", \"FLAG_WORK_PHONE\", \"FLAG_CONT_MOBILE\", \"FLAG_PHONE\", \"FLAG_EMAIL\", \"OCCUPATION_TYPE\", \"CNT_FAM_MEMBERS\", \"REGION_RATING_CLIENT\", \"REGION_RATING_CLIENT_W_CITY\", \"WEEKDAY_APPR_PROCESS_START\", \"HOUR_APPR_PROCESS_START\", \"REG_REGION_NOT_LIVE_REGION\", \"REG_REGION_NOT_WORK_REGION\", \"LIVE_REGION_NOT_WORK_REGION\", \"REG_CITY_NOT_LIVE_CITY\", \"REG_CITY_NOT_WORK_CITY\", \"LIVE_CITY_NOT_WORK_CITY\", \"ORGANIZATION_TYPE\", \"EXT_SOURCE_1\", \"EXT_SOURCE_2\", \"EXT_SOURCE_3\", \"APARTMENTS_AVG\", \"BASEMENTAREA_AVG\", \"YEARS_BEGINEXPLUATATION_AVG\", \"YEARS_BUILD_AVG\", \"COMMONAREA_AVG\", \"ELEVATORS_AVG\", \"ENTRANCES_AVG\", \"FLOORSMAX_AVG\", \"FLOORSMIN_AVG\", \"LANDAREA_AVG\", \"LIVINGAPARTMENTS_AVG\", \"LIVINGAREA_AVG\", \"NONLIVINGAPARTMENTS_AVG\", \"NONLIVINGAREA_AVG\", \"APARTMENTS_MODE\", \"BASEMENTAREA_MODE\", \"YEARS_BEGINEXPLUATATION_MODE\", \"YEARS_BUILD_MODE\", \"COMMONAREA_MODE\", \"ELEVATORS_MODE\", \"ENTRANCES_MODE\", \"FLOORSMAX_MODE\", \"FLOORSMIN_MODE\", \"LANDAREA_MODE\", \"LIVINGAPARTMENTS_MODE\", \"LIVINGAREA_MODE\", \"NONLIVINGAPARTMENTS_MODE\", \"NONLIVINGAREA_MODE\", \"APARTMENTS_MEDI\", \"BASEMENTAREA_MEDI\", \"YEARS_BEGINEXPLUATATION_MEDI\", \"YEARS_BUILD_MEDI\", \"COMMONAREA_MEDI\", \"ELEVATORS_MEDI\", \"ENTRANCES_MEDI\", \"FLOORSMAX_MEDI\", \"FLOORSMIN_MEDI\", \"LANDAREA_MEDI\", \"LIVINGAPARTMENTS_MEDI\", \"LIVINGAREA_MEDI\", \"NONLIVINGAPARTMENTS_MEDI\", \"NONLIVINGAREA_MEDI\", \"FONDKAPREMONT_MODE\", \"HOUSETYPE_MODE\", \"TOTALAREA_MODE\", \"WALLSMATERIAL_MODE\", \"EMERGENCYSTATE_MODE\", \"OBS_30_CNT_SOCIAL_CIRCLE\", \"DEF_30_CNT_SOCIAL_CIRCLE\", \"OBS_60_CNT_SOCIAL_CIRCLE\", \"DEF_60_CNT_SOCIAL_CIRCLE\", \"DAYS_LAST_PHONE_CHANGE\", \"FLAG_DOCUMENT_2\", \"FLAG_DOCUMENT_3\", \"FLAG_DOCUMENT_4\", \"FLAG_DOCUMENT_5\", \"FLAG_DOCUMENT_6\", \"FLAG_DOCUMENT_7\", \"FLAG_DOCUMENT_8\", \"FLAG_DOCUMENT_9\", \"FLAG_DOCUMENT_10\", \"FLAG_DOCUMENT_11\", \"FLAG_DOCUMENT_12\", \"FLAG_DOCUMENT_13\", \"FLAG_DOCUMENT_14\", \"FLAG_DOCUMENT_15\", \"FLAG_DOCUMENT_16\", \"FLAG_DOCUMENT_17\", \"FLAG_DOCUMENT_18\", \"FLAG_DOCUMENT_19\", \"FLAG_DOCUMENT_20\", \"FLAG_DOCUMENT_21\", \"AMT_REQ_CREDIT_BUREAU_HOUR\", \"AMT_REQ_CREDIT_BUREAU_DAY\", \"AMT_REQ_CREDIT_BUREAU_WEEK\", \"AMT_REQ_CREDIT_BUREAU_MON\", \"AMT_REQ_CREDIT_BUREAU_QRT\", \"AMT_REQ_CREDIT_BUREAU_YEAR\"], \"data\": [[\"Cash loans\", \"F\", \"N\", \"Y\", 2, 90000.0, 213322.5, 15651.0, 162000.0, \"Unaccompanied\", \"Working\", \"Secondary / secondary special\", \"Married\", \"House / apartment\", 0.035792, -13104, -1011, -2114.0, -4403, NaN, 1, 1, 0, 1, 0, 0, \"Laborers\", 4.0, 2, 2, \"TUESDAY\", 13, 0, 0, 0, 0, 0, 0, \"Business Entity Type 3\", NaN, 0.4537370426905118, NaN, NaN, NaN, NaN, NaN, NaN, NaN, NaN, NaN, NaN, NaN, NaN, NaN, NaN, NaN, NaN, NaN, NaN, NaN, NaN, NaN, NaN, NaN, NaN, NaN, NaN, NaN, NaN, NaN, NaN, NaN, NaN, NaN, NaN, NaN, NaN, NaN, NaN, NaN, NaN, NaN, NaN, NaN, null, null, NaN, null, null, 0.0, 0.0, 0.0, 0.0, -662.0, 0, 1, 0, 0, 0, 0, 0, 0, 0, 0, 0, 0, 0, 0, 0, 0, 0, 0, 0, 0, NaN, NaN, NaN, NaN, NaN, NaN], [\"Cash loans\", \"M\", \"N\", \"Y\", 0, 171000.0, 376920.0, 16731.0, 270000.0, \"Unaccompanied\", \"Commercial associate\", \"Secondary / secondary special\", \"Married\", \"House / apartment\", 0.031329, -17413, -646, -6496.0, -927, NaN, 1, 1, 0, 1, 0, 0, \"High skill tech staff\", 2.0, 2, 2, \"TUESDAY\", 10, 0, 1, 1, 0, 1, 1, \"Business Entity Type 2\", 0.5204063301052397, 0.5623158799824074, 0.6430255641096323, 0.132, 0.1152, 0.9796, 0.7212, 0.0165, 0.0, 0.2759, 0.1667, 0.2083, 0.1028, 0.1067, 0.1172, 0.0039, 0.0065, 0.1345, 0.1195, 0.9796, 0.7321, 0.0167, 0.0, 0.2759, 0.1667, 0.2083, 0.1051, 0.1166, 0.1221, 0.0039, 0.0069, 0.1332, 0.1152, 0.9796, 0.7249, 0.0166, 0.0, 0.2759, 0.1667, 0.2083, 0.1046, 0.1086, 0.1193, 0.0039, 0.0066, \"reg oper account\", \"block of flats\", 0.0936, \"Stone, brick\", \"No\", 0.0, 0.0, 0.0, 0.0, -1616.0, 0, 1, 0, 0, 0, 0, 0, 0, 0, 0, 0, 0, 0, 0, 0, 0, 0, 0, 0, 0, 0.0, 0.0, 0.0, 0.0, 0.0, 6.0], [\"Cash loans\", \"F\", \"Y\", \"Y\", 2, 112500.0, 1350000.0, 42034.5, 1350000.0, \"Family\", \"Commercial associate\", \"Incomplete higher\", \"Married\", \"House / apartment\", 0.0196889999999999, -12283, -2008, -4099.0, -4462, 1.0, 1, 1, 0, 1, 0, 0, \"Core staff\", 4.0, 2, 2, \"MONDAY\", 15, 0, 0, 0, 0, 0, 0, \"Business Entity Type 3\", 0.6162263906442763, 0.7093089061939994, 0.3944954053123993, 0.2557, 0.1603, 0.9846, 0.7892, 0.0799, 0.24, 0.1897, 0.5, 0.5417, 0.1157, 0.208, 0.2668, 0.0019, 0.0014, 0.1429, 0.0491, 0.9801, 0.7387, 0.068, 0.0806, 0.0345, 0.3333, 0.375, 0.0135, 0.124, 0.1576, 0.0, 0.0, 0.2581, 0.1603, 0.9846, 0.792, 0.0804, 0.24, 0.1897, 0.5, 0.5417, 0.1177, 0.2116, 0.2716, 0.0019, 0.0014, \"reg oper account\", \"block of flats\", 0.1564, \"Monolithic\", \"No\", 1.0, 0.0, 1.0, 0.0, -3510.0, 0, 1, 0, 0, 0, 0, 0, 0, 0, 0, 0, 0, 0, 0, 0, 0, 0, 0, 0, 0, 0.0, 0.0, 0.0, 0.0, 0.0, 4.0], [\"Cash loans\", \"F\", \"N\", \"Y\", 0, 135000.0, 1074100.5, 51804.0, 882000.0, \"Unaccompanied\", \"Working\", \"Secondary / secondary special\", \"Married\", \"House / apartment\", 0.035792, -17775, -200, -10436.0, -1304, NaN, 1, 1, 0, 1, 0, 0, null, 2.0, 2, 2, \"WEDNESDAY\", 10, 0, 0, 0, 1, 1, 0, \"Other\", NaN, 0.4598412870838615, 0.1342654235549427, NaN, NaN, NaN, NaN, NaN, NaN, NaN, NaN, NaN, NaN, NaN, NaN, NaN, NaN, NaN, NaN, NaN, NaN, NaN, NaN, NaN, NaN, NaN, NaN, NaN, NaN, NaN, NaN, NaN, NaN, NaN, NaN, NaN, NaN, NaN, NaN, NaN, NaN, NaN, NaN, NaN, NaN, null, null, NaN, null, null, 0.0, 0.0, 0.0, 0.0, -1757.0, 0, 1, 0, 0, 0, 0, 0, 0, 0, 0, 0, 0, 0, 0, 0, 0, 0, 0, 0, 0, 0.0, 0.0, 0.0, 0.0, 1.0, 2.0], [\"Cash loans\", \"F\", \"Y\", \"Y\", 0, 119250.0, 1303200.0, 46809.0, 1125000.0, \"Unaccompanied\", \"Pensioner\", \"Secondary / secondary special\", \"Married\", \"House / apartment\", 0.030755, -21479, 365243, -2313.0, -4879, 5.0, 1, 0, 0, 1, 0, 1, null, 2.0, 2, 2, \"FRIDAY\", 16, 0, 0, 0, 0, 0, 0, \"XNA\", 0.4075050555941632, 0.55761735450115, 0.7136313997323308, NaN, NaN, NaN, NaN, NaN, NaN, NaN, NaN, NaN, NaN, NaN, NaN, NaN, NaN, NaN, NaN, NaN, NaN, NaN, NaN, NaN, NaN, NaN, NaN, NaN, NaN, NaN, NaN, NaN, NaN, NaN, NaN, NaN, NaN, NaN, NaN, NaN, NaN, NaN, NaN, NaN, NaN, null, null, NaN, null, null, 0.0, 0.0, 0.0, 0.0, 0.0, 0, 0, 0, 0, 1, 0, 0, 0, 0, 0, 0, 0, 0, 0, 0, 0, 0, 0, 0, 0, 0.0, 0.0, 0.0, 0.0, 0.0, 0.0]]}'"
      ]
     },
     "execution_count": 155,
     "metadata": {},
     "output_type": "execute_result"
    }
   ],
   "source": [
    "data_json"
   ]
  },
  {
   "cell_type": "code",
   "execution_count": 156,
   "id": "89235884-1424-4e30-a687-fd28569a6b07",
   "metadata": {},
   "outputs": [],
   "source": [
    "# Envoi de la requête POST à l'API\n",
    "heroku_url = 'https://failurescore-bc9f53f25e58.herokuapp.com/predict'\n",
    "local_url = 'http://127.0.0.1:5000/predict'\n",
    "response = requests.post(\n",
    "    heroku_url,\n",
    "    headers={'Content-Type': 'application/json'},\n",
    "    data=data_json\n",
    ")"
   ]
  },
  {
   "cell_type": "code",
   "execution_count": 157,
   "id": "ea50de7a-df18-488d-8e16-235673026089",
   "metadata": {},
   "outputs": [
    {
     "data": {
      "text/plain": [
       "<Response [200]>"
      ]
     },
     "metadata": {},
     "output_type": "display_data"
    }
   ],
   "source": [
    "display(response)"
   ]
  },
  {
   "cell_type": "code",
   "execution_count": 158,
   "id": "beb11633-be08-4734-a155-b219b6569fc9",
   "metadata": {},
   "outputs": [
    {
     "data": {
      "text/plain": [
       "[1, 0, 0, 1, 0]"
      ]
     },
     "metadata": {},
     "output_type": "display_data"
    }
   ],
   "source": [
    "display(response.json()['prediction_class'])"
   ]
  },
  {
   "cell_type": "code",
   "execution_count": 159,
   "id": "06429319-4dac-400d-b7f4-7f966a98a0ec",
   "metadata": {},
   "outputs": [],
   "source": [
    "# DataFrame pour affichage des probabilités et accord ou non de crédit\n",
    "predictions = pd.DataFrame({'Customer id': sk_id_curr.values.tolist(), 'Failure probability': response.json()['prediction_proba'], 'Credit agreement': response.json()['prediction_class']})\n",
    "predictions['Credit agreement'] = predictions['Credit agreement'] == 0\n",
    "predictions['Failure probability'] = round(predictions['Failure probability'], 2)"
   ]
  },
  {
   "cell_type": "code",
   "execution_count": 160,
   "id": "ae08d756-e2c8-437c-b915-6c3ed8f05365",
   "metadata": {},
   "outputs": [
    {
     "data": {
      "text/html": [
       "<div>\n",
       "<style scoped>\n",
       "    .dataframe tbody tr th:only-of-type {\n",
       "        vertical-align: middle;\n",
       "    }\n",
       "\n",
       "    .dataframe tbody tr th {\n",
       "        vertical-align: top;\n",
       "    }\n",
       "\n",
       "    .dataframe thead th {\n",
       "        text-align: right;\n",
       "    }\n",
       "</style>\n",
       "<table border=\"1\" class=\"dataframe\">\n",
       "  <thead>\n",
       "    <tr style=\"text-align: right;\">\n",
       "      <th></th>\n",
       "      <th>Customer id</th>\n",
       "      <th>Failure probability</th>\n",
       "      <th>Credit agreement</th>\n",
       "    </tr>\n",
       "  </thead>\n",
       "  <tbody>\n",
       "    <tr>\n",
       "      <th>0</th>\n",
       "      <td>156104</td>\n",
       "      <td>0.60</td>\n",
       "      <td>False</td>\n",
       "    </tr>\n",
       "    <tr>\n",
       "      <th>1</th>\n",
       "      <td>362872</td>\n",
       "      <td>0.41</td>\n",
       "      <td>True</td>\n",
       "    </tr>\n",
       "    <tr>\n",
       "      <th>2</th>\n",
       "      <td>259867</td>\n",
       "      <td>0.26</td>\n",
       "      <td>True</td>\n",
       "    </tr>\n",
       "    <tr>\n",
       "      <th>3</th>\n",
       "      <td>258705</td>\n",
       "      <td>0.78</td>\n",
       "      <td>False</td>\n",
       "    </tr>\n",
       "    <tr>\n",
       "      <th>4</th>\n",
       "      <td>392250</td>\n",
       "      <td>0.24</td>\n",
       "      <td>True</td>\n",
       "    </tr>\n",
       "  </tbody>\n",
       "</table>\n",
       "</div>"
      ],
      "text/plain": [
       "   Customer id  Failure probability  Credit agreement\n",
       "0       156104                 0.60             False\n",
       "1       362872                 0.41              True\n",
       "2       259867                 0.26              True\n",
       "3       258705                 0.78             False\n",
       "4       392250                 0.24              True"
      ]
     },
     "metadata": {},
     "output_type": "display_data"
    }
   ],
   "source": [
    "# Affichage\n",
    "display(predictions)"
   ]
  },
  {
   "cell_type": "code",
   "execution_count": null,
   "id": "cd6b1bac-585d-41fc-8601-c9fca44ffd88",
   "metadata": {},
   "outputs": [],
   "source": [
    "local_importance = response.json()['feature_importance']"
   ]
  },
  {
   "cell_type": "code",
   "execution_count": null,
   "id": "e9e8b3c6-1d5a-4fd3-8540-d3d050433250",
   "metadata": {},
   "outputs": [],
   "source": [
    "feature_names = response.json()['feature_names']"
   ]
  },
  {
   "cell_type": "code",
   "execution_count": null,
   "id": "3e481559-e86b-4ba7-bb7e-877b4f164f01",
   "metadata": {},
   "outputs": [],
   "source": [
    "local_importance"
   ]
  },
  {
   "cell_type": "code",
   "execution_count": null,
   "id": "73c08752-b1c1-4c3d-9352-0a2ecebb1502",
   "metadata": {},
   "outputs": [],
   "source": [
    "# Graphique feature importance locale\n",
    "plot_shap_values(local_importance[0], feature_names)"
   ]
  },
  {
   "cell_type": "code",
   "execution_count": 17,
   "id": "17d8c95b-9935-4d14-987d-d62960dae12c",
   "metadata": {},
   "outputs": [
    {
     "data": {
      "text/plain": [
       "-1"
      ]
     },
     "execution_count": 17,
     "metadata": {},
     "output_type": "execute_result"
    }
   ],
   "source": [
    "~0"
   ]
  },
  {
   "cell_type": "code",
   "execution_count": 18,
   "id": "f437f79b-e3dd-4907-846e-e6d168cfec80",
   "metadata": {},
   "outputs": [
    {
     "data": {
      "text/plain": [
       "-2"
      ]
     },
     "execution_count": 18,
     "metadata": {},
     "output_type": "execute_result"
    }
   ],
   "source": [
    "~1"
   ]
  },
  {
   "cell_type": "code",
   "execution_count": 20,
   "id": "a9ffd1b9-7c6f-4766-afde-ccd1883fd989",
   "metadata": {},
   "outputs": [
    {
     "name": "stderr",
     "output_type": "stream",
     "text": [
      "C:\\Users\\chrab\\AppData\\Local\\Temp\\ipykernel_26096\\2563144858.py:1: DeprecationWarning: Bitwise inversion '~' on bool is deprecated. This returns the bitwise inversion of the underlying int object and is usually not what you expect from negating a bool. Use the 'not' operator for boolean negation or ~int(x) if you really want the bitwise inversion of the underlying int.\n",
      "  ~(1>0)\n"
     ]
    },
    {
     "data": {
      "text/plain": [
       "-2"
      ]
     },
     "execution_count": 20,
     "metadata": {},
     "output_type": "execute_result"
    }
   ],
   "source": [
    "~(1>0)"
   ]
  },
  {
   "cell_type": "code",
   "execution_count": 23,
   "id": "1694663c-2f84-49b7-9da9-ea07e9c38576",
   "metadata": {},
   "outputs": [
    {
     "data": {
      "text/plain": [
       "True"
      ]
     },
     "execution_count": 23,
     "metadata": {},
     "output_type": "execute_result"
    }
   ],
   "source": [
    "not 0"
   ]
  },
  {
   "cell_type": "code",
   "execution_count": null,
   "id": "123259fb-c0f7-4ecb-ac40-5bc6e22e0e8e",
   "metadata": {},
   "outputs": [],
   "source": []
  }
 ],
 "metadata": {
  "kernelspec": {
   "display_name": "Python 3 (ipykernel)",
   "language": "python",
   "name": "python3"
  },
  "language_info": {
   "codemirror_mode": {
    "name": "ipython",
    "version": 3
   },
   "file_extension": ".py",
   "mimetype": "text/x-python",
   "name": "python",
   "nbconvert_exporter": "python",
   "pygments_lexer": "ipython3",
   "version": "3.12.4"
  }
 },
 "nbformat": 4,
 "nbformat_minor": 5
}
