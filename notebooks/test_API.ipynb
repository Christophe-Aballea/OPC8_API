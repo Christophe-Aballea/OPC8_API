{
 "cells": [
  {
   "cell_type": "markdown",
   "id": "20c43a0e-372c-4af5-b2bb-2479e04121ba",
   "metadata": {},
   "source": [
    "# Réalisez un dashboard\n",
    "## Notebook - Test de l'API  \n",
    "OpenClassrooms - Parcours Data Scientist - Projet 08  "
   ]
  },
  {
   "cell_type": "code",
   "execution_count": 48,
   "id": "04b8e732-b522-44d3-815a-116be94dd2a2",
   "metadata": {},
   "outputs": [],
   "source": [
    "import pandas as pd\n",
    "import numpy as np\n",
    "import requests\n",
    "import json\n",
    "import os\n",
    "import pickle\n",
    "import shap\n",
    "from flask import jsonify\n",
    "# import matplotlib.pyplot as plt"
   ]
  },
  {
   "cell_type": "code",
   "execution_count": null,
   "id": "f89a2c31-c335-40e8-a9f5-7b845855e20c",
   "metadata": {},
   "outputs": [],
   "source": [
    "# Graphique des valeurs SHAP\n",
    "def plot_shap_values(local_importance, feature_names, top_n=20):\n",
    "    # Créer un DataFrame à partir des valeurs SHAP et des noms des features\n",
    "    shap_values_df = pd.DataFrame({'Feature': feature_names, 'SHAP Value': local_importance})\n",
    "\n",
    "    # Trier par la valeur absolue des valeurs SHAP et sélectionner les top N\n",
    "    shap_values_df['Abs SHAP Value'] = np.abs(shap_values_df['SHAP Value'])\n",
    "    shap_values_df = shap_values_df.sort_values(by='Abs SHAP Value', ascending=False).head(top_n)\n",
    "\n",
    "    # Tracer les valeurs SHAP\n",
    "    plt.figure(figsize=(10, 8))\n",
    "    plt.barh(shap_values_df['Feature'], shap_values_df['SHAP Value'])\n",
    "    plt.xlabel('SHAP Value')\n",
    "    plt.title(f'Top {top_n} Feature importance locale (SHAP values)')\n",
    "    plt.gca().invert_yaxis()\n",
    "    plt.show()"
   ]
  },
  {
   "cell_type": "code",
   "execution_count": null,
   "id": "e59c500a-a7c7-4e33-9f90-9d80df8da869",
   "metadata": {},
   "outputs": [],
   "source": [
    "# Graphique de comparaison des features importance locale et globale\n",
    "def compare_feature_importance(local_importance, global_importance_df, top_n=20):\n",
    "    # Convertir les valeurs SHAP locales en DataFrame\n",
    "    local_importance_df = pd.DataFrame({'Feature': global_importance_df['Feature'], 'Local importance': local_importance})\n",
    "    \n",
    "    # Joindre les DataFrames d'importance locale et globale\n",
    "    comparison_df = global_importance_df.set_index('Feature').join(local_importance_df.set_index('Feature'))\n",
    "    \n",
    "    # Trier par la valeur absolue de l'importance locale et sélectionner les top N\n",
    "    comparison_df['Abs Local importance'] = np.abs(comparison_df['Local importance'])\n",
    "    comparison_df = comparison_df.sort_values(by='Abs Local importance', ascending=False).head(top_n)\n",
    "    \n",
    "    # Tracer la comparaison\n",
    "    fig, ax = plt.subplots(figsize=(10, 8))\n",
    "    comparison_df[['Global importance', 'Local importance']].plot(kind='barh', ax=ax)\n",
    "    ax.set_xlabel('Importance')\n",
    "    ax.set_title('Comparaison de l\\'importance des features (Globale vs Locale)')\n",
    "    plt.gca().invert_yaxis()\n",
    "    plt.show()\n"
   ]
  },
  {
   "cell_type": "code",
   "execution_count": 62,
   "id": "c407b472-f27a-428a-94ac-79d1d22b0be6",
   "metadata": {},
   "outputs": [],
   "source": [
    "# Nombre d'exemples à tester\n",
    "n_samples = 10"
   ]
  },
  {
   "cell_type": "code",
   "execution_count": 63,
   "id": "cc2daba8-5138-4dfd-aa61-63755fa39747",
   "metadata": {},
   "outputs": [],
   "source": [
    "# Récupération des données de test\n",
    "base_dir = os.getcwd()\n",
    "df_test_path = os.path.join(base_dir, '..', '..', 'P08 - Dashboard', 'data', 'raw', 'application_test.csv')\n",
    "df_test = pd.read_csv(df_test_path)"
   ]
  },
  {
   "cell_type": "code",
   "execution_count": 64,
   "id": "4da0ca2a-b671-4bfd-b879-81eece956351",
   "metadata": {},
   "outputs": [],
   "source": [
    "# Récupération du seuil de classification\n",
    "threshold_path = os.path.join(base_dir, '..', 'data', 'processed', 'best_threshold.txt')\n",
    "with open(threshold_path, 'r') as threshold_file:\n",
    "    best_threshold = float(threshold_file.read())"
   ]
  },
  {
   "cell_type": "code",
   "execution_count": 65,
   "id": "cf3048e5-dd0f-494d-ab10-3194688d1f49",
   "metadata": {},
   "outputs": [],
   "source": [
    "# Sélection aléatoire de n_samples exemples\n",
    "df_subset = df_test.sample(n_samples)"
   ]
  },
  {
   "cell_type": "code",
   "execution_count": 66,
   "id": "01e4dbf4-0f6b-4992-a5c4-3f5b564c46b9",
   "metadata": {},
   "outputs": [],
   "source": [
    "# Récupération des id clients\n",
    "sk_id_curr = df_subset['SK_ID_CURR'].astype('int')"
   ]
  },
  {
   "cell_type": "code",
   "execution_count": 67,
   "id": "39c63eab-2907-4c75-a6b4-f4f1e354d91a",
   "metadata": {},
   "outputs": [],
   "source": [
    "# Suppression des id clients\n",
    "df_subset = df_subset.drop(columns='SK_ID_CURR')"
   ]
  },
  {
   "cell_type": "code",
   "execution_count": 68,
   "id": "fe499372-0ffd-4894-98f9-6cc87dcc7277",
   "metadata": {},
   "outputs": [],
   "source": [
    "# Remplacement des valeurs manquantes par None (JSON n'accepte pas les NaN)\n",
    "df_subset =  df_subset.map(lambda x: None if pd.isna(x) else x)"
   ]
  },
  {
   "cell_type": "code",
   "execution_count": 69,
   "id": "05938801-e03c-4e31-9602-8a7bd4691903",
   "metadata": {},
   "outputs": [],
   "source": [
    "# Conversion au format JSON\n",
    "data_json = json.dumps({\n",
    "    \"columns\": df_subset.columns.tolist(),\n",
    "    \"data\": df_subset.values.tolist()}\n",
    ")"
   ]
  },
  {
   "cell_type": "code",
   "execution_count": 70,
   "id": "b31dd6f7-97ea-4918-af57-89d424e0ad5e",
   "metadata": {},
   "outputs": [
    {
     "data": {
      "text/plain": [
       "'{\"columns\": [\"NAME_CONTRACT_TYPE\", \"CODE_GENDER\", \"FLAG_OWN_CAR\", \"FLAG_OWN_REALTY\", \"CNT_CHILDREN\", \"AMT_INCOME_TOTAL\", \"AMT_CREDIT\", \"AMT_ANNUITY\", \"AMT_GOODS_PRICE\", \"NAME_TYPE_SUITE\", \"NAME_INCOME_TYPE\", \"NAME_EDUCATION_TYPE\", \"NAME_FAMILY_STATUS\", \"NAME_HOUSING_TYPE\", \"REGION_POPULATION_RELATIVE\", \"DAYS_BIRTH\", \"DAYS_EMPLOYED\", \"DAYS_REGISTRATION\", \"DAYS_ID_PUBLISH\", \"OWN_CAR_AGE\", \"FLAG_MOBIL\", \"FLAG_EMP_PHONE\", \"FLAG_WORK_PHONE\", \"FLAG_CONT_MOBILE\", \"FLAG_PHONE\", \"FLAG_EMAIL\", \"OCCUPATION_TYPE\", \"CNT_FAM_MEMBERS\", \"REGION_RATING_CLIENT\", \"REGION_RATING_CLIENT_W_CITY\", \"WEEKDAY_APPR_PROCESS_START\", \"HOUR_APPR_PROCESS_START\", \"REG_REGION_NOT_LIVE_REGION\", \"REG_REGION_NOT_WORK_REGION\", \"LIVE_REGION_NOT_WORK_REGION\", \"REG_CITY_NOT_LIVE_CITY\", \"REG_CITY_NOT_WORK_CITY\", \"LIVE_CITY_NOT_WORK_CITY\", \"ORGANIZATION_TYPE\", \"EXT_SOURCE_1\", \"EXT_SOURCE_2\", \"EXT_SOURCE_3\", \"APARTMENTS_AVG\", \"BASEMENTAREA_AVG\", \"YEARS_BEGINEXPLUATATION_AVG\", \"YEARS_BUILD_AVG\", \"COMMONAREA_AVG\", \"ELEVATORS_AVG\", \"ENTRANCES_AVG\", \"FLOORSMAX_AVG\", \"FLOORSMIN_AVG\", \"LANDAREA_AVG\", \"LIVINGAPARTMENTS_AVG\", \"LIVINGAREA_AVG\", \"NONLIVINGAPARTMENTS_AVG\", \"NONLIVINGAREA_AVG\", \"APARTMENTS_MODE\", \"BASEMENTAREA_MODE\", \"YEARS_BEGINEXPLUATATION_MODE\", \"YEARS_BUILD_MODE\", \"COMMONAREA_MODE\", \"ELEVATORS_MODE\", \"ENTRANCES_MODE\", \"FLOORSMAX_MODE\", \"FLOORSMIN_MODE\", \"LANDAREA_MODE\", \"LIVINGAPARTMENTS_MODE\", \"LIVINGAREA_MODE\", \"NONLIVINGAPARTMENTS_MODE\", \"NONLIVINGAREA_MODE\", \"APARTMENTS_MEDI\", \"BASEMENTAREA_MEDI\", \"YEARS_BEGINEXPLUATATION_MEDI\", \"YEARS_BUILD_MEDI\", \"COMMONAREA_MEDI\", \"ELEVATORS_MEDI\", \"ENTRANCES_MEDI\", \"FLOORSMAX_MEDI\", \"FLOORSMIN_MEDI\", \"LANDAREA_MEDI\", \"LIVINGAPARTMENTS_MEDI\", \"LIVINGAREA_MEDI\", \"NONLIVINGAPARTMENTS_MEDI\", \"NONLIVINGAREA_MEDI\", \"FONDKAPREMONT_MODE\", \"HOUSETYPE_MODE\", \"TOTALAREA_MODE\", \"WALLSMATERIAL_MODE\", \"EMERGENCYSTATE_MODE\", \"OBS_30_CNT_SOCIAL_CIRCLE\", \"DEF_30_CNT_SOCIAL_CIRCLE\", \"OBS_60_CNT_SOCIAL_CIRCLE\", \"DEF_60_CNT_SOCIAL_CIRCLE\", \"DAYS_LAST_PHONE_CHANGE\", \"FLAG_DOCUMENT_2\", \"FLAG_DOCUMENT_3\", \"FLAG_DOCUMENT_4\", \"FLAG_DOCUMENT_5\", \"FLAG_DOCUMENT_6\", \"FLAG_DOCUMENT_7\", \"FLAG_DOCUMENT_8\", \"FLAG_DOCUMENT_9\", \"FLAG_DOCUMENT_10\", \"FLAG_DOCUMENT_11\", \"FLAG_DOCUMENT_12\", \"FLAG_DOCUMENT_13\", \"FLAG_DOCUMENT_14\", \"FLAG_DOCUMENT_15\", \"FLAG_DOCUMENT_16\", \"FLAG_DOCUMENT_17\", \"FLAG_DOCUMENT_18\", \"FLAG_DOCUMENT_19\", \"FLAG_DOCUMENT_20\", \"FLAG_DOCUMENT_21\", \"AMT_REQ_CREDIT_BUREAU_HOUR\", \"AMT_REQ_CREDIT_BUREAU_DAY\", \"AMT_REQ_CREDIT_BUREAU_WEEK\", \"AMT_REQ_CREDIT_BUREAU_MON\", \"AMT_REQ_CREDIT_BUREAU_QRT\", \"AMT_REQ_CREDIT_BUREAU_YEAR\"], \"data\": [[\"Cash loans\", \"F\", \"N\", \"Y\", 0, 67500.0, 334152.0, 16204.5, 270000.0, \"Unaccompanied\", \"Pensioner\", \"Secondary / secondary special\", \"Single / not married\", \"House / apartment\", 0.019101, -21410, 365243, -3465.0, -4540, NaN, 1, 0, 0, 1, 0, 0, null, 1.0, 2, 2, \"TUESDAY\", 10, 0, 0, 0, 0, 0, 0, \"XNA\", 0.7632536828916529, 0.6756952584758334, 0.8016009030071296, 0.0948, 0.0703, 0.9935, 0.9456, 0.0228, 0.08, 0.0917, 0.2775, 0.0417, 0.0654, 0.0269, 0.0936, 0.0, 0.118, 0.0336, 0.0426, 0.9896, 0.9477, 0.0231, 0.0, 0.069, 0.125, 0.0417, 0.0, 0.0294, 0.0375, 0.0, 0.0, 0.1041, 0.0703, 0.995, 0.9463, 0.023, 0.08, 0.069, 0.3333, 0.0417, 0.098, 0.0274, 0.0953, 0.0, 0.1205, \"reg oper account\", \"block of flats\", 0.0383, \"Stone, brick\", \"No\", 0.0, 0.0, 0.0, 0.0, -384.0, 0, 0, 0, 0, 1, 0, 0, 0, 0, 0, 0, 0, 0, 0, 0, 0, 0, 0, 0, 0, 0.0, 0.0, 0.0, 0.0, 0.0, 2.0], [\"Cash loans\", \"M\", \"Y\", \"Y\", 1, 90000.0, 163512.0, 10449.0, 135000.0, \"Family\", \"Working\", \"Secondary / secondary special\", \"Civil marriage\", \"House / apartment\", 0.0084739999999999, -16760, -1830, -5149.0, -281, 20.0, 1, 1, 0, 1, 0, 0, \"Laborers\", 3.0, 2, 2, \"TUESDAY\", 16, 0, 0, 0, 0, 0, 0, \"Other\", NaN, 0.4659303964529206, 0.656158373001177, 0.0124, NaN, 0.9518, NaN, NaN, NaN, 0.069, 0.0417, NaN, NaN, NaN, 0.0088, NaN, NaN, 0.0126, NaN, 0.9518, NaN, NaN, NaN, 0.069, 0.0417, NaN, NaN, NaN, 0.0092, NaN, NaN, 0.0125, NaN, 0.9518, NaN, NaN, NaN, 0.069, 0.0417, NaN, NaN, NaN, 0.009, NaN, NaN, null, \"block of flats\", 0.0076, \"Stone, brick\", \"No\", 1.0, 1.0, 1.0, 0.0, -2310.0, 0, 1, 0, 0, 0, 0, 0, 0, 0, 0, 0, 0, 0, 0, 0, 0, 0, 0, 0, 0, 0.0, 0.0, 0.0, 0.0, 2.0, 1.0], [\"Cash loans\", \"M\", \"Y\", \"N\", 1, 270000.0, 988875.0, 53775.0, 868500.0, \"Unaccompanied\", \"Pensioner\", \"Secondary / secondary special\", \"Married\", \"House / apartment\", 0.016612, -15576, 365243, -1596.0, -3813, 3.0, 1, 0, 0, 1, 0, 0, null, 3.0, 2, 2, \"MONDAY\", 12, 0, 0, 0, 0, 0, 0, \"XNA\", NaN, 0.5620736761445608, 0.4974688893052743, 0.1237, 0.1104, 0.9925, 0.898, 0.1061, 0.12, 0.1034, 0.375, 0.4167, 0.1121, 0.1009, 0.1767, 0.0, 0.0, 0.1261, 0.1146, 0.9926, 0.902, 0.107, 0.1208, 0.1034, 0.375, 0.4167, 0.1146, 0.1102, 0.1841, 0.0, 0.0, 0.1249, 0.1104, 0.9925, 0.8994, 0.1067, 0.12, 0.1034, 0.375, 0.4167, 0.114, 0.1026, 0.1798, 0.0, 0.0, \"reg oper account\", \"block of flats\", 0.1969, \"Panel\", \"No\", 0.0, 0.0, 0.0, 0.0, -2008.0, 0, 1, 0, 0, 0, 0, 0, 0, 0, 0, 0, 0, 0, 0, 0, 0, 0, 0, 0, 0, 0.0, 0.0, 0.0, 0.0, 1.0, 1.0], [\"Cash loans\", \"F\", \"Y\", \"Y\", 0, 135000.0, 534204.0, 49126.5, 495000.0, \"Spouse, partner\", \"Working\", \"Secondary / secondary special\", \"Married\", \"House / apartment\", 0.020246, -15034, -6578, -1960.0, -4515, 3.0, 1, 1, 0, 1, 0, 1, null, 2.0, 3, 3, \"TUESDAY\", 11, 0, 0, 0, 0, 0, 0, \"Industry: type 9\", 0.4977553887419465, 0.5095076687861732, 0.1317701325313814, 0.1216, NaN, 0.997, NaN, NaN, NaN, 0.2069, 0.1667, NaN, NaN, NaN, NaN, NaN, NaN, 0.1239, NaN, 0.997, NaN, NaN, NaN, 0.2069, 0.1667, NaN, NaN, NaN, NaN, NaN, NaN, 0.1228, NaN, 0.997, NaN, NaN, NaN, 0.2069, 0.1667, NaN, NaN, NaN, NaN, NaN, NaN, null, \"block of flats\", 0.1554, \"Panel\", \"No\", 0.0, 0.0, 0.0, 0.0, 0.0, 0, 1, 0, 0, 0, 0, 0, 0, 0, 0, 0, 0, 0, 0, 0, 0, 0, 0, 0, 0, 0.0, 0.0, 0.0, 0.0, 0.0, 0.0], [\"Cash loans\", \"F\", \"N\", \"N\", 0, 126000.0, 495000.0, 16096.5, 495000.0, \"Unaccompanied\", \"Working\", \"Secondary / secondary special\", \"Married\", \"House / apartment\", 0.022625, -17329, -2742, -6537.0, -859, NaN, 1, 1, 0, 1, 1, 0, null, 2.0, 2, 2, \"WEDNESDAY\", 11, 0, 0, 0, 0, 0, 0, \"Other\", 0.6787701535329598, 0.5881488153392189, 0.5334816299804352, 0.033, 0.0285, 0.9737, NaN, NaN, 0.0, 0.069, 0.125, NaN, 0.0335, NaN, 0.027, NaN, 0.0, 0.0336, 0.0295, 0.9737, NaN, NaN, 0.0, 0.069, 0.125, NaN, 0.0342, NaN, 0.0281, NaN, 0.0, 0.0333, 0.0285, 0.9737, NaN, NaN, 0.0, 0.069, 0.125, NaN, 0.034, NaN, 0.0275, NaN, 0.0, null, \"block of flats\", 0.0276, \"Stone, brick\", \"No\", 0.0, 0.0, 0.0, 0.0, -834.0, 0, 1, 0, 0, 0, 0, 0, 0, 0, 0, 0, 0, 0, 0, 0, 0, 0, 0, 0, 0, 0.0, 0.0, 0.0, 0.0, 0.0, 0.0], [\"Cash loans\", \"M\", \"N\", \"N\", 0, 112500.0, 90000.0, 9450.0, 90000.0, \"Unaccompanied\", \"Working\", \"Secondary / secondary special\", \"Married\", \"House / apartment\", 0.010147, -11612, -1854, -1212.0, -2675, NaN, 1, 1, 1, 1, 0, 0, \"Laborers\", 2.0, 2, 2, \"THURSDAY\", 19, 0, 0, 0, 0, 0, 0, \"Business Entity Type 3\", 0.2067441008208881, 0.4821327460011443, 0.4902575124990026, NaN, NaN, 0.9613, NaN, NaN, NaN, NaN, NaN, NaN, NaN, NaN, 0.017, NaN, NaN, NaN, NaN, 0.9613, NaN, NaN, NaN, NaN, NaN, NaN, NaN, NaN, 0.0177, NaN, NaN, NaN, NaN, 0.9613, NaN, NaN, NaN, NaN, NaN, NaN, NaN, NaN, 0.0173, NaN, NaN, null, \"block of flats\", 0.0133, null, \"Yes\", 0.0, 0.0, 0.0, 0.0, -1333.0, 0, 1, 0, 0, 0, 0, 0, 0, 0, 0, 0, 0, 0, 0, 0, 0, 0, 0, 0, 0, 0.0, 0.0, 0.0, 0.0, 1.0, 4.0], [\"Cash loans\", \"M\", \"N\", \"N\", 1, 238500.0, 495000.0, 25272.0, 495000.0, \"Unaccompanied\", \"Commercial associate\", \"Higher education\", \"Married\", \"With parents\", 0.04622, -9033, -680, -1253.0, -1711, NaN, 1, 1, 1, 1, 0, 0, \"IT staff\", 3.0, 1, 1, \"MONDAY\", 19, 0, 1, 1, 0, 1, 1, \"Business Entity Type 3\", NaN, 0.5941896393339847, 0.5226973172821112, 0.134, 0.0684, 0.9975, 0.966, 0.0546, 0.18, 0.069, 0.7083, 0.75, 0.2026, 0.1088, 0.1727, 0.0019, 0.0362, 0.1145, 0.0, 0.9975, 0.9673, 0.0434, 0.1208, 0.0345, 0.6667, 0.7083, 0.1961, 0.0992, 0.1336, 0.0, 0.0, 0.1353, 0.0684, 0.9975, 0.9665, 0.0549, 0.18, 0.069, 0.7083, 0.75, 0.2062, 0.1107, 0.1758, 0.0019, 0.0369, \"not specified\", \"block of flats\", 0.1697, \"Others\", \"No\", 0.0, 0.0, 0.0, 0.0, -309.0, 0, 0, 0, 0, 0, 0, 1, 0, 0, 0, 0, 0, 0, 0, 0, 0, 0, 0, 0, 0, 0.0, 0.0, 0.0, 0.0, 0.0, 5.0], [\"Cash loans\", \"F\", \"N\", \"Y\", 0, 135000.0, 1341000.0, 43389.0, 1341000.0, \"Unaccompanied\", \"Working\", \"Higher education\", \"Married\", \"House / apartment\", 0.028663, -16912, -1233, -553.0, -449, NaN, 1, 1, 0, 1, 0, 0, \"Private service staff\", 2.0, 2, 2, \"THURSDAY\", 17, 0, 0, 0, 0, 1, 1, \"Other\", 0.7750327856717374, 0.6145674327618842, 0.7194907850918436, 0.0928, 0.0757, 0.9781, 0.7008, 0.0614, 0.0, 0.2069, 0.1667, 0.2083, 0.0, 0.0756, 0.0785, 0.0, 0.0, 0.0945, 0.0785, 0.9782, 0.7125, 0.062, 0.0, 0.2069, 0.1667, 0.2083, 0.0, 0.0826, 0.0818, 0.0, 0.0, 0.0937, 0.0757, 0.9781, 0.7048, 0.0618, 0.0, 0.2069, 0.1667, 0.2083, 0.0, 0.077, 0.0799, 0.0, 0.0, \"reg oper account\", \"block of flats\", 0.0953, \"Panel\", \"No\", 0.0, 0.0, 0.0, 0.0, -273.0, 0, 1, 0, 0, 0, 0, 0, 0, 0, 0, 0, 0, 0, 0, 0, 0, 0, 0, 0, 0, 0.0, 0.0, 0.0, 0.0, 0.0, 2.0], [\"Cash loans\", \"F\", \"N\", \"Y\", 0, 112500.0, 266652.0, 17172.0, 202500.0, \"Unaccompanied\", \"Pensioner\", \"Secondary / secondary special\", \"Married\", \"House / apartment\", 0.01885, -22973, 365243, -11887.0, -4527, NaN, 1, 0, 0, 1, 0, 0, null, 2.0, 2, 2, \"TUESDAY\", 14, 0, 0, 0, 0, 0, 0, \"XNA\", NaN, 0.611745772045957, NaN, NaN, NaN, NaN, NaN, NaN, NaN, NaN, NaN, NaN, NaN, NaN, NaN, NaN, NaN, NaN, NaN, NaN, NaN, NaN, NaN, NaN, NaN, NaN, NaN, NaN, NaN, NaN, NaN, NaN, NaN, NaN, NaN, NaN, NaN, NaN, NaN, NaN, NaN, NaN, NaN, NaN, NaN, null, null, NaN, null, null, 4.0, 1.0, 4.0, 1.0, -311.0, 0, 1, 0, 0, 0, 0, 0, 0, 0, 0, 0, 0, 0, 0, 0, 0, 0, 0, 0, 0, 0.0, 0.0, 0.0, 0.0, 0.0, 0.0], [\"Cash loans\", \"M\", \"Y\", \"Y\", 2, 360000.0, 790830.0, 57676.5, 675000.0, \"Spouse, partner\", \"Working\", \"Higher education\", \"Married\", \"House / apartment\", 0.010006, -15870, -888, -5466.0, -4806, 5.0, 1, 1, 0, 1, 0, 0, \"Managers\", 4.0, 2, 1, \"MONDAY\", 11, 0, 0, 0, 0, 0, 0, \"Self-employed\", 0.7268984321918723, 0.7796120644675602, NaN, 0.0866, 0.1243, 0.9866, 0.8164, 0.0206, 0.0, 0.2069, 0.1667, 0.2083, 0.0227, 0.0706, 0.1007, 0.0, 0.0, 0.0882, 0.129, 0.9866, 0.8236, 0.0208, 0.0, 0.2069, 0.1667, 0.2083, 0.0232, 0.0771, 0.1049, 0.0, 0.0, 0.0874, 0.1243, 0.9866, 0.8189, 0.0207, 0.0, 0.2069, 0.1667, 0.2083, 0.0231, 0.0718, 0.1025, 0.0, 0.0, \"reg oper account\", \"block of flats\", 0.0808, \"Panel\", \"No\", 0.0, 0.0, 0.0, 0.0, -3249.0, 0, 1, 0, 0, 0, 0, 0, 0, 0, 0, 0, 0, 0, 0, 0, 0, 0, 0, 0, 0, NaN, NaN, NaN, NaN, NaN, NaN]]}'"
      ]
     },
     "execution_count": 70,
     "metadata": {},
     "output_type": "execute_result"
    }
   ],
   "source": [
    "data_json"
   ]
  },
  {
   "cell_type": "code",
   "execution_count": 73,
   "id": "89235884-1424-4e30-a687-fd28569a6b07",
   "metadata": {},
   "outputs": [],
   "source": [
    "# Envoi de la requête POST à l'API\n",
    "heroku_url = 'https://failurescore-bc9f53f25e58.herokuapp.com/predict'\n",
    "local_url = 'http://127.0.0.1:5000/predict'\n",
    "response = requests.post(\n",
    "    heroku_url,\n",
    "    headers={'Content-Type': 'application/json'},\n",
    "    data=data_json\n",
    ")"
   ]
  },
  {
   "cell_type": "code",
   "execution_count": 74,
   "id": "ea50de7a-df18-488d-8e16-235673026089",
   "metadata": {},
   "outputs": [
    {
     "data": {
      "text/plain": [
       "<Response [503]>"
      ]
     },
     "metadata": {},
     "output_type": "display_data"
    }
   ],
   "source": [
    "display(response)"
   ]
  },
  {
   "cell_type": "code",
   "execution_count": 75,
   "id": "beb11633-be08-4734-a155-b219b6569fc9",
   "metadata": {},
   "outputs": [
    {
     "ename": "JSONDecodeError",
     "evalue": "Expecting value: line 1 column 1 (char 0)",
     "output_type": "error",
     "traceback": [
      "\u001b[1;31m---------------------------------------------------------------------------\u001b[0m",
      "\u001b[1;31mJSONDecodeError\u001b[0m                           Traceback (most recent call last)",
      "File \u001b[1;32m~\\anaconda3\\envs\\opc08_api\\Lib\\site-packages\\requests\\models.py:974\u001b[0m, in \u001b[0;36mResponse.json\u001b[1;34m(self, **kwargs)\u001b[0m\n\u001b[0;32m    973\u001b[0m \u001b[38;5;28;01mtry\u001b[39;00m:\n\u001b[1;32m--> 974\u001b[0m     \u001b[38;5;28;01mreturn\u001b[39;00m complexjson\u001b[38;5;241m.\u001b[39mloads(\u001b[38;5;28mself\u001b[39m\u001b[38;5;241m.\u001b[39mtext, \u001b[38;5;241m*\u001b[39m\u001b[38;5;241m*\u001b[39mkwargs)\n\u001b[0;32m    975\u001b[0m \u001b[38;5;28;01mexcept\u001b[39;00m JSONDecodeError \u001b[38;5;28;01mas\u001b[39;00m e:\n\u001b[0;32m    976\u001b[0m     \u001b[38;5;66;03m# Catch JSON-related errors and raise as requests.JSONDecodeError\u001b[39;00m\n\u001b[0;32m    977\u001b[0m     \u001b[38;5;66;03m# This aliases json.JSONDecodeError and simplejson.JSONDecodeError\u001b[39;00m\n",
      "File \u001b[1;32m~\\anaconda3\\envs\\opc08_api\\Lib\\json\\__init__.py:346\u001b[0m, in \u001b[0;36mloads\u001b[1;34m(s, cls, object_hook, parse_float, parse_int, parse_constant, object_pairs_hook, **kw)\u001b[0m\n\u001b[0;32m    343\u001b[0m \u001b[38;5;28;01mif\u001b[39;00m (\u001b[38;5;28mcls\u001b[39m \u001b[38;5;129;01mis\u001b[39;00m \u001b[38;5;28;01mNone\u001b[39;00m \u001b[38;5;129;01mand\u001b[39;00m object_hook \u001b[38;5;129;01mis\u001b[39;00m \u001b[38;5;28;01mNone\u001b[39;00m \u001b[38;5;129;01mand\u001b[39;00m\n\u001b[0;32m    344\u001b[0m         parse_int \u001b[38;5;129;01mis\u001b[39;00m \u001b[38;5;28;01mNone\u001b[39;00m \u001b[38;5;129;01mand\u001b[39;00m parse_float \u001b[38;5;129;01mis\u001b[39;00m \u001b[38;5;28;01mNone\u001b[39;00m \u001b[38;5;129;01mand\u001b[39;00m\n\u001b[0;32m    345\u001b[0m         parse_constant \u001b[38;5;129;01mis\u001b[39;00m \u001b[38;5;28;01mNone\u001b[39;00m \u001b[38;5;129;01mand\u001b[39;00m object_pairs_hook \u001b[38;5;129;01mis\u001b[39;00m \u001b[38;5;28;01mNone\u001b[39;00m \u001b[38;5;129;01mand\u001b[39;00m \u001b[38;5;129;01mnot\u001b[39;00m kw):\n\u001b[1;32m--> 346\u001b[0m     \u001b[38;5;28;01mreturn\u001b[39;00m _default_decoder\u001b[38;5;241m.\u001b[39mdecode(s)\n\u001b[0;32m    347\u001b[0m \u001b[38;5;28;01mif\u001b[39;00m \u001b[38;5;28mcls\u001b[39m \u001b[38;5;129;01mis\u001b[39;00m \u001b[38;5;28;01mNone\u001b[39;00m:\n",
      "File \u001b[1;32m~\\anaconda3\\envs\\opc08_api\\Lib\\json\\decoder.py:337\u001b[0m, in \u001b[0;36mJSONDecoder.decode\u001b[1;34m(self, s, _w)\u001b[0m\n\u001b[0;32m    333\u001b[0m \u001b[38;5;250m\u001b[39m\u001b[38;5;124;03m\"\"\"Return the Python representation of ``s`` (a ``str`` instance\u001b[39;00m\n\u001b[0;32m    334\u001b[0m \u001b[38;5;124;03mcontaining a JSON document).\u001b[39;00m\n\u001b[0;32m    335\u001b[0m \n\u001b[0;32m    336\u001b[0m \u001b[38;5;124;03m\"\"\"\u001b[39;00m\n\u001b[1;32m--> 337\u001b[0m obj, end \u001b[38;5;241m=\u001b[39m \u001b[38;5;28mself\u001b[39m\u001b[38;5;241m.\u001b[39mraw_decode(s, idx\u001b[38;5;241m=\u001b[39m_w(s, \u001b[38;5;241m0\u001b[39m)\u001b[38;5;241m.\u001b[39mend())\n\u001b[0;32m    338\u001b[0m end \u001b[38;5;241m=\u001b[39m _w(s, end)\u001b[38;5;241m.\u001b[39mend()\n",
      "File \u001b[1;32m~\\anaconda3\\envs\\opc08_api\\Lib\\json\\decoder.py:355\u001b[0m, in \u001b[0;36mJSONDecoder.raw_decode\u001b[1;34m(self, s, idx)\u001b[0m\n\u001b[0;32m    354\u001b[0m \u001b[38;5;28;01mexcept\u001b[39;00m \u001b[38;5;167;01mStopIteration\u001b[39;00m \u001b[38;5;28;01mas\u001b[39;00m err:\n\u001b[1;32m--> 355\u001b[0m     \u001b[38;5;28;01mraise\u001b[39;00m JSONDecodeError(\u001b[38;5;124m\"\u001b[39m\u001b[38;5;124mExpecting value\u001b[39m\u001b[38;5;124m\"\u001b[39m, s, err\u001b[38;5;241m.\u001b[39mvalue) \u001b[38;5;28;01mfrom\u001b[39;00m \u001b[38;5;28;01mNone\u001b[39;00m\n\u001b[0;32m    356\u001b[0m \u001b[38;5;28;01mreturn\u001b[39;00m obj, end\n",
      "\u001b[1;31mJSONDecodeError\u001b[0m: Expecting value: line 1 column 1 (char 0)",
      "\nDuring handling of the above exception, another exception occurred:\n",
      "\u001b[1;31mJSONDecodeError\u001b[0m                           Traceback (most recent call last)",
      "Cell \u001b[1;32mIn[75], line 1\u001b[0m\n\u001b[1;32m----> 1\u001b[0m display(response\u001b[38;5;241m.\u001b[39mjson()[\u001b[38;5;124m'\u001b[39m\u001b[38;5;124mprediction_proba\u001b[39m\u001b[38;5;124m'\u001b[39m])\n",
      "File \u001b[1;32m~\\anaconda3\\envs\\opc08_api\\Lib\\site-packages\\requests\\models.py:978\u001b[0m, in \u001b[0;36mResponse.json\u001b[1;34m(self, **kwargs)\u001b[0m\n\u001b[0;32m    974\u001b[0m     \u001b[38;5;28;01mreturn\u001b[39;00m complexjson\u001b[38;5;241m.\u001b[39mloads(\u001b[38;5;28mself\u001b[39m\u001b[38;5;241m.\u001b[39mtext, \u001b[38;5;241m*\u001b[39m\u001b[38;5;241m*\u001b[39mkwargs)\n\u001b[0;32m    975\u001b[0m \u001b[38;5;28;01mexcept\u001b[39;00m JSONDecodeError \u001b[38;5;28;01mas\u001b[39;00m e:\n\u001b[0;32m    976\u001b[0m     \u001b[38;5;66;03m# Catch JSON-related errors and raise as requests.JSONDecodeError\u001b[39;00m\n\u001b[0;32m    977\u001b[0m     \u001b[38;5;66;03m# This aliases json.JSONDecodeError and simplejson.JSONDecodeError\u001b[39;00m\n\u001b[1;32m--> 978\u001b[0m     \u001b[38;5;28;01mraise\u001b[39;00m RequestsJSONDecodeError(e\u001b[38;5;241m.\u001b[39mmsg, e\u001b[38;5;241m.\u001b[39mdoc, e\u001b[38;5;241m.\u001b[39mpos)\n",
      "\u001b[1;31mJSONDecodeError\u001b[0m: Expecting value: line 1 column 1 (char 0)"
     ]
    }
   ],
   "source": [
    "display(response.json()['prediction_proba'])"
   ]
  },
  {
   "cell_type": "code",
   "execution_count": 12,
   "id": "06429319-4dac-400d-b7f4-7f966a98a0ec",
   "metadata": {},
   "outputs": [],
   "source": [
    "# DataFrame pour affichage des probabilités et accord ou non de crédit\n",
    "predictions = pd.DataFrame({'Customer id': sk_id_curr.values.tolist(), 'Failure probability': response.json()['prediction_proba']})\n",
    "predictions['Credit agreement'] = predictions['Failure probability'] < best_threshold\n",
    "predictions['Failure probability'] = round(predictions['Failure probability'], 2)"
   ]
  },
  {
   "cell_type": "code",
   "execution_count": 13,
   "id": "ae08d756-e2c8-437c-b915-6c3ed8f05365",
   "metadata": {},
   "outputs": [
    {
     "data": {
      "text/html": [
       "<div>\n",
       "<style scoped>\n",
       "    .dataframe tbody tr th:only-of-type {\n",
       "        vertical-align: middle;\n",
       "    }\n",
       "\n",
       "    .dataframe tbody tr th {\n",
       "        vertical-align: top;\n",
       "    }\n",
       "\n",
       "    .dataframe thead th {\n",
       "        text-align: right;\n",
       "    }\n",
       "</style>\n",
       "<table border=\"1\" class=\"dataframe\">\n",
       "  <thead>\n",
       "    <tr style=\"text-align: right;\">\n",
       "      <th></th>\n",
       "      <th>Customer id</th>\n",
       "      <th>Failure probability</th>\n",
       "      <th>Credit agreement</th>\n",
       "    </tr>\n",
       "  </thead>\n",
       "  <tbody>\n",
       "    <tr>\n",
       "      <th>0</th>\n",
       "      <td>157804</td>\n",
       "      <td>0.33</td>\n",
       "      <td>True</td>\n",
       "    </tr>\n",
       "    <tr>\n",
       "      <th>1</th>\n",
       "      <td>241965</td>\n",
       "      <td>0.52</td>\n",
       "      <td>True</td>\n",
       "    </tr>\n",
       "    <tr>\n",
       "      <th>2</th>\n",
       "      <td>125111</td>\n",
       "      <td>0.38</td>\n",
       "      <td>True</td>\n",
       "    </tr>\n",
       "    <tr>\n",
       "      <th>3</th>\n",
       "      <td>407839</td>\n",
       "      <td>0.30</td>\n",
       "      <td>True</td>\n",
       "    </tr>\n",
       "    <tr>\n",
       "      <th>4</th>\n",
       "      <td>196436</td>\n",
       "      <td>0.43</td>\n",
       "      <td>True</td>\n",
       "    </tr>\n",
       "    <tr>\n",
       "      <th>5</th>\n",
       "      <td>241804</td>\n",
       "      <td>0.42</td>\n",
       "      <td>True</td>\n",
       "    </tr>\n",
       "    <tr>\n",
       "      <th>6</th>\n",
       "      <td>270324</td>\n",
       "      <td>0.54</td>\n",
       "      <td>False</td>\n",
       "    </tr>\n",
       "    <tr>\n",
       "      <th>7</th>\n",
       "      <td>274155</td>\n",
       "      <td>0.07</td>\n",
       "      <td>True</td>\n",
       "    </tr>\n",
       "    <tr>\n",
       "      <th>8</th>\n",
       "      <td>175402</td>\n",
       "      <td>0.18</td>\n",
       "      <td>True</td>\n",
       "    </tr>\n",
       "    <tr>\n",
       "      <th>9</th>\n",
       "      <td>411938</td>\n",
       "      <td>0.31</td>\n",
       "      <td>True</td>\n",
       "    </tr>\n",
       "  </tbody>\n",
       "</table>\n",
       "</div>"
      ],
      "text/plain": [
       "   Customer id  Failure probability  Credit agreement\n",
       "0       157804                 0.33              True\n",
       "1       241965                 0.52              True\n",
       "2       125111                 0.38              True\n",
       "3       407839                 0.30              True\n",
       "4       196436                 0.43              True\n",
       "5       241804                 0.42              True\n",
       "6       270324                 0.54             False\n",
       "7       274155                 0.07              True\n",
       "8       175402                 0.18              True\n",
       "9       411938                 0.31              True"
      ]
     },
     "metadata": {},
     "output_type": "display_data"
    }
   ],
   "source": [
    "# Affichage\n",
    "display(predictions)"
   ]
  },
  {
   "cell_type": "code",
   "execution_count": null,
   "id": "cd6b1bac-585d-41fc-8601-c9fca44ffd88",
   "metadata": {},
   "outputs": [],
   "source": [
    "local_importance = response.json()['feature_importance']"
   ]
  },
  {
   "cell_type": "code",
   "execution_count": null,
   "id": "e9e8b3c6-1d5a-4fd3-8540-d3d050433250",
   "metadata": {},
   "outputs": [],
   "source": [
    "feature_names = response.json()['feature_names']"
   ]
  },
  {
   "cell_type": "code",
   "execution_count": null,
   "id": "3e481559-e86b-4ba7-bb7e-877b4f164f01",
   "metadata": {},
   "outputs": [],
   "source": [
    "local_importance"
   ]
  },
  {
   "cell_type": "code",
   "execution_count": null,
   "id": "73c08752-b1c1-4c3d-9352-0a2ecebb1502",
   "metadata": {},
   "outputs": [],
   "source": [
    "# Graphique feature importance locale\n",
    "plot_shap_values(local_importance[0], feature_names)"
   ]
  },
  {
   "cell_type": "code",
   "execution_count": 17,
   "id": "17d8c95b-9935-4d14-987d-d62960dae12c",
   "metadata": {},
   "outputs": [
    {
     "data": {
      "text/plain": [
       "-1"
      ]
     },
     "execution_count": 17,
     "metadata": {},
     "output_type": "execute_result"
    }
   ],
   "source": [
    "~0"
   ]
  },
  {
   "cell_type": "code",
   "execution_count": 18,
   "id": "f437f79b-e3dd-4907-846e-e6d168cfec80",
   "metadata": {},
   "outputs": [
    {
     "data": {
      "text/plain": [
       "-2"
      ]
     },
     "execution_count": 18,
     "metadata": {},
     "output_type": "execute_result"
    }
   ],
   "source": [
    "~1"
   ]
  },
  {
   "cell_type": "code",
   "execution_count": 20,
   "id": "a9ffd1b9-7c6f-4766-afde-ccd1883fd989",
   "metadata": {},
   "outputs": [
    {
     "name": "stderr",
     "output_type": "stream",
     "text": [
      "C:\\Users\\chrab\\AppData\\Local\\Temp\\ipykernel_26096\\2563144858.py:1: DeprecationWarning: Bitwise inversion '~' on bool is deprecated. This returns the bitwise inversion of the underlying int object and is usually not what you expect from negating a bool. Use the 'not' operator for boolean negation or ~int(x) if you really want the bitwise inversion of the underlying int.\n",
      "  ~(1>0)\n"
     ]
    },
    {
     "data": {
      "text/plain": [
       "-2"
      ]
     },
     "execution_count": 20,
     "metadata": {},
     "output_type": "execute_result"
    }
   ],
   "source": [
    "~(1>0)"
   ]
  },
  {
   "cell_type": "code",
   "execution_count": 23,
   "id": "1694663c-2f84-49b7-9da9-ea07e9c38576",
   "metadata": {},
   "outputs": [
    {
     "data": {
      "text/plain": [
       "True"
      ]
     },
     "execution_count": 23,
     "metadata": {},
     "output_type": "execute_result"
    }
   ],
   "source": [
    "not 0"
   ]
  },
  {
   "cell_type": "code",
   "execution_count": null,
   "id": "123259fb-c0f7-4ecb-ac40-5bc6e22e0e8e",
   "metadata": {},
   "outputs": [],
   "source": []
  }
 ],
 "metadata": {
  "kernelspec": {
   "display_name": "Python 3 (ipykernel)",
   "language": "python",
   "name": "python3"
  },
  "language_info": {
   "codemirror_mode": {
    "name": "ipython",
    "version": 3
   },
   "file_extension": ".py",
   "mimetype": "text/x-python",
   "name": "python",
   "nbconvert_exporter": "python",
   "pygments_lexer": "ipython3",
   "version": "3.12.4"
  }
 },
 "nbformat": 4,
 "nbformat_minor": 5
}
