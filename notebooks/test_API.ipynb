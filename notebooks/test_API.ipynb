{
 "cells": [
  {
   "cell_type": "markdown",
   "id": "20c43a0e-372c-4af5-b2bb-2479e04121ba",
   "metadata": {},
   "source": [
    "# Réalisez un dashboard\n",
    "## Notebook - Test de l'API  \n",
    "OpenClassrooms - Parcours Data Scientist - Projet 08  "
   ]
  },
  {
   "cell_type": "code",
   "execution_count": 1,
   "id": "04b8e732-b522-44d3-815a-116be94dd2a2",
   "metadata": {},
   "outputs": [],
   "source": [
    "import pandas as pd\n",
    "import numpy as np\n",
    "import requests\n",
    "import json\n",
    "import os\n",
    "import pickle\n",
    "# import matplotlib.pyplot as plt"
   ]
  },
  {
   "cell_type": "code",
   "execution_count": null,
   "id": "f89a2c31-c335-40e8-a9f5-7b845855e20c",
   "metadata": {},
   "outputs": [],
   "source": [
    "# Graphique des valeurs SHAP\n",
    "def plot_shap_values(local_importance, feature_names, top_n=20):\n",
    "    # Créer un DataFrame à partir des valeurs SHAP et des noms des features\n",
    "    shap_values_df = pd.DataFrame({'Feature': feature_names, 'SHAP Value': local_importance})\n",
    "\n",
    "    # Trier par la valeur absolue des valeurs SHAP et sélectionner les top N\n",
    "    shap_values_df['Abs SHAP Value'] = np.abs(shap_values_df['SHAP Value'])\n",
    "    shap_values_df = shap_values_df.sort_values(by='Abs SHAP Value', ascending=False).head(top_n)\n",
    "\n",
    "    # Tracer les valeurs SHAP\n",
    "    plt.figure(figsize=(10, 8))\n",
    "    plt.barh(shap_values_df['Feature'], shap_values_df['SHAP Value'])\n",
    "    plt.xlabel('SHAP Value')\n",
    "    plt.title(f'Top {top_n} Feature importance locale (SHAP values)')\n",
    "    plt.gca().invert_yaxis()\n",
    "    plt.show()"
   ]
  },
  {
   "cell_type": "code",
   "execution_count": null,
   "id": "e59c500a-a7c7-4e33-9f90-9d80df8da869",
   "metadata": {},
   "outputs": [],
   "source": [
    "# Graphique de comparaison des features importance locale et globale\n",
    "def compare_feature_importance(local_importance, global_importance_df, top_n=20):\n",
    "    # Convertir les valeurs SHAP locales en DataFrame\n",
    "    local_importance_df = pd.DataFrame({'Feature': global_importance_df['Feature'], 'Local importance': local_importance})\n",
    "    \n",
    "    # Joindre les DataFrames d'importance locale et globale\n",
    "    comparison_df = global_importance_df.set_index('Feature').join(local_importance_df.set_index('Feature'))\n",
    "    \n",
    "    # Trier par la valeur absolue de l'importance locale et sélectionner les top N\n",
    "    comparison_df['Abs Local importance'] = np.abs(comparison_df['Local importance'])\n",
    "    comparison_df = comparison_df.sort_values(by='Abs Local importance', ascending=False).head(top_n)\n",
    "    \n",
    "    # Tracer la comparaison\n",
    "    fig, ax = plt.subplots(figsize=(10, 8))\n",
    "    comparison_df[['Global importance', 'Local importance']].plot(kind='barh', ax=ax)\n",
    "    ax.set_xlabel('Importance')\n",
    "    ax.set_title('Comparaison de l\\'importance des features (Globale vs Locale)')\n",
    "    plt.gca().invert_yaxis()\n",
    "    plt.show()\n"
   ]
  },
  {
   "cell_type": "code",
   "execution_count": 2,
   "id": "c407b472-f27a-428a-94ac-79d1d22b0be6",
   "metadata": {},
   "outputs": [],
   "source": [
    "# Nombre d'exemples à tester\n",
    "n_samples = 10"
   ]
  },
  {
   "cell_type": "code",
   "execution_count": 3,
   "id": "cc2daba8-5138-4dfd-aa61-63755fa39747",
   "metadata": {},
   "outputs": [],
   "source": [
    "# Récupération des données de test\n",
    "base_dir = os.getcwd()\n",
    "df_test_path = os.path.join(base_dir, '..', '..', 'P08 - Dashboard', 'data', 'raw', 'application_test.csv')\n",
    "df_test = pd.read_csv(df_test_path)"
   ]
  },
  {
   "cell_type": "code",
   "execution_count": 4,
   "id": "4da0ca2a-b671-4bfd-b879-81eece956351",
   "metadata": {},
   "outputs": [],
   "source": [
    "# Récupération du seuil de classification\n",
    "threshold_path = os.path.join(base_dir, '..', 'data', 'processed', 'best_threshold.txt')\n",
    "with open(threshold_path, 'r') as threshold_file:\n",
    "    best_threshold = float(threshold_file.read())"
   ]
  },
  {
   "cell_type": "code",
   "execution_count": 5,
   "id": "cf3048e5-dd0f-494d-ab10-3194688d1f49",
   "metadata": {},
   "outputs": [],
   "source": [
    "# Sélection aléatoire de n_samples exemples\n",
    "df_subset = df_test.sample(n_samples)"
   ]
  },
  {
   "cell_type": "code",
   "execution_count": 6,
   "id": "01e4dbf4-0f6b-4992-a5c4-3f5b564c46b9",
   "metadata": {},
   "outputs": [],
   "source": [
    "# Récupération des id clients\n",
    "sk_id_curr = df_subset['SK_ID_CURR'].astype('int')"
   ]
  },
  {
   "cell_type": "code",
   "execution_count": 7,
   "id": "39c63eab-2907-4c75-a6b4-f4f1e354d91a",
   "metadata": {},
   "outputs": [],
   "source": [
    "# Suppression des id clients\n",
    "df_subset = df_subset.drop(columns='SK_ID_CURR')"
   ]
  },
  {
   "cell_type": "code",
   "execution_count": 8,
   "id": "fe499372-0ffd-4894-98f9-6cc87dcc7277",
   "metadata": {},
   "outputs": [],
   "source": [
    "# Remplacement des valeurs manquantes par None (JSON n'accepte pas les NaN)\n",
    "df_subset =  df_subset.map(lambda x: None if pd.isna(x) else x)"
   ]
  },
  {
   "cell_type": "code",
   "execution_count": 9,
   "id": "05938801-e03c-4e31-9602-8a7bd4691903",
   "metadata": {},
   "outputs": [],
   "source": [
    "# Conversion au format JSON\n",
    "data_json = json.dumps({\n",
    "    \"columns\": df_subset.columns.tolist(),\n",
    "    \"data\": df_subset.values.tolist()}\n",
    ")"
   ]
  },
  {
   "cell_type": "code",
   "execution_count": 11,
   "id": "89235884-1424-4e30-a687-fd28569a6b07",
   "metadata": {},
   "outputs": [],
   "source": [
    "# Envoi de la requête POST à l'API\n",
    "heroku_url = 'https://failurescore-bc9f53f25e58.herokuapp.com/predict'\n",
    "local_url = 'http://127.0.0.1:5000/predict'\n",
    "response = requests.post(\n",
    "    heroku_url,\n",
    "    headers={'Content-Type': 'application/json'},\n",
    "    data=data_json\n",
    ")"
   ]
  },
  {
   "cell_type": "code",
   "execution_count": null,
   "id": "ea50de7a-df18-488d-8e16-235673026089",
   "metadata": {},
   "outputs": [],
   "source": [
    "display(response)"
   ]
  },
  {
   "cell_type": "code",
   "execution_count": null,
   "id": "06429319-4dac-400d-b7f4-7f966a98a0ec",
   "metadata": {},
   "outputs": [],
   "source": [
    "# DataFrame pour affichage des probabilités et accord ou non de crédit\n",
    "predictions = pd.DataFrame({'Customer id': sk_id_curr.values.tolist(), 'Failure probability': response.json()['prediction_proba']})\n",
    "predictions['Credit agreement'] = predictions['Failure probability'] < best_threshold\n",
    "predictions['Failure probability'] = round(predictions['Failure probability'], 2)"
   ]
  },
  {
   "cell_type": "code",
   "execution_count": null,
   "id": "ae08d756-e2c8-437c-b915-6c3ed8f05365",
   "metadata": {},
   "outputs": [],
   "source": [
    "# Affichage\n",
    "display(predictions)"
   ]
  },
  {
   "cell_type": "code",
   "execution_count": null,
   "id": "cd6b1bac-585d-41fc-8601-c9fca44ffd88",
   "metadata": {},
   "outputs": [],
   "source": [
    "local_importance = response.json()['feature_importance']"
   ]
  },
  {
   "cell_type": "code",
   "execution_count": null,
   "id": "e9e8b3c6-1d5a-4fd3-8540-d3d050433250",
   "metadata": {},
   "outputs": [],
   "source": [
    "feature_names = response.json()['feature_names']"
   ]
  },
  {
   "cell_type": "code",
   "execution_count": null,
   "id": "73c08752-b1c1-4c3d-9352-0a2ecebb1502",
   "metadata": {},
   "outputs": [],
   "source": [
    "# Graphique feature importance locale\n",
    "plot_shap_values(local_importance[0], feature_names)"
   ]
  }
 ],
 "metadata": {
  "kernelspec": {
   "display_name": "Python 3 (ipykernel)",
   "language": "python",
   "name": "python3"
  },
  "language_info": {
   "codemirror_mode": {
    "name": "ipython",
    "version": 3
   },
   "file_extension": ".py",
   "mimetype": "text/x-python",
   "name": "python",
   "nbconvert_exporter": "python",
   "pygments_lexer": "ipython3",
   "version": "3.12.4"
  }
 },
 "nbformat": 4,
 "nbformat_minor": 5
}
