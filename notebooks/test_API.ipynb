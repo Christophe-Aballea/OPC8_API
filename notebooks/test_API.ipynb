{
 "cells": [
  {
   "cell_type": "markdown",
   "id": "20c43a0e-372c-4af5-b2bb-2479e04121ba",
   "metadata": {},
   "source": [
    "# Réalisez un dashboard\n",
    "## Notebook - Test de l'API  \n",
    "OpenClassrooms - Parcours Data Scientist - Projet 08  "
   ]
  },
  {
   "cell_type": "markdown",
   "id": "eb4945b6-f98d-405a-b367-e70c1550c94c",
   "metadata": {},
   "source": [
    "__Ce notebook teste l'API en ligne :__  \n",
    "* Sélection d'un exemple dans le jeu de test  \n",
    "* Interrogation de l'API  \n",
    "* Affichage de la probabilité de défaut de remboursement\n",
    "* Affichage de l'accord ou non du crédit\n",
    "* Affichage des 20 éléments ayant eu le plus d'impact sur la prédiction"
   ]
  },
  {
   "cell_type": "code",
   "execution_count": 1,
   "id": "04b8e732-b522-44d3-815a-116be94dd2a2",
   "metadata": {},
   "outputs": [],
   "source": [
    "import pandas as pd\n",
    "import numpy as np\n",
    "import requests\n",
    "import json\n",
    "import os"
   ]
  },
  {
   "cell_type": "code",
   "execution_count": 2,
   "id": "c407b472-f27a-428a-94ac-79d1d22b0be6",
   "metadata": {},
   "outputs": [],
   "source": [
    "# Nombre d'exemples à tester\n",
    "n_samples = 1"
   ]
  },
  {
   "cell_type": "code",
   "execution_count": 3,
   "id": "cc2daba8-5138-4dfd-aa61-63755fa39747",
   "metadata": {},
   "outputs": [],
   "source": [
    "# Récupération des données de test\n",
    "base_dir = os.getcwd()\n",
    "df_test_path = os.path.join(base_dir, '..', '..', 'P08 - Dashboard', 'data', 'raw', 'application_test.csv')\n",
    "df_test = pd.read_csv(df_test_path)"
   ]
  },
  {
   "cell_type": "code",
   "execution_count": 4,
   "id": "4da0ca2a-b671-4bfd-b879-81eece956351",
   "metadata": {},
   "outputs": [],
   "source": [
    "# Récupération du seuil de classification\n",
    "threshold_path = os.path.join(base_dir, '..', 'data', 'processed', 'best_threshold.txt')\n",
    "with open(threshold_path, 'r') as threshold_file:\n",
    "    best_threshold = float(threshold_file.read())"
   ]
  },
  {
   "cell_type": "code",
   "execution_count": 5,
   "id": "cf3048e5-dd0f-494d-ab10-3194688d1f49",
   "metadata": {},
   "outputs": [],
   "source": [
    "# Sélection aléatoire de n_samples exemples\n",
    "df_subset = df_test.sample(n_samples)"
   ]
  },
  {
   "cell_type": "code",
   "execution_count": 6,
   "id": "01e4dbf4-0f6b-4992-a5c4-3f5b564c46b9",
   "metadata": {},
   "outputs": [],
   "source": [
    "# Récupération des id clients\n",
    "sk_id_curr = df_subset['SK_ID_CURR'].astype('int')"
   ]
  },
  {
   "cell_type": "code",
   "execution_count": 7,
   "id": "39c63eab-2907-4c75-a6b4-f4f1e354d91a",
   "metadata": {},
   "outputs": [],
   "source": [
    "# Suppression des id clients du subset\n",
    "df_subset = df_subset.drop(columns='SK_ID_CURR')"
   ]
  },
  {
   "cell_type": "code",
   "execution_count": 8,
   "id": "fe499372-0ffd-4894-98f9-6cc87dcc7277",
   "metadata": {},
   "outputs": [],
   "source": [
    "# Remplacement des valeurs manquantes par None (JSON n'accepte pas les NaN)\n",
    "df_subset =  df_subset.map(lambda x: None if pd.isna(x) else x)"
   ]
  },
  {
   "cell_type": "code",
   "execution_count": 9,
   "id": "05938801-e03c-4e31-9602-8a7bd4691903",
   "metadata": {},
   "outputs": [],
   "source": [
    "# Conversion au format JSON\n",
    "data_json = json.dumps({\n",
    "    \"columns\": df_subset.columns.tolist(),\n",
    "    \"data\": df_subset.values.tolist()}\n",
    ")"
   ]
  },
  {
   "cell_type": "code",
   "execution_count": 25,
   "id": "89235884-1424-4e30-a687-fd28569a6b07",
   "metadata": {},
   "outputs": [],
   "source": [
    "# Envoi de la requête POST à l'API\n",
    "heroku_url = 'https://failurescore-bc9f53f25e58.herokuapp.com/predict'\n",
    "local_url = 'http://127.0.0.1:5000/predict'\n",
    "response = requests.post(\n",
    "    heroku_url,\n",
    "    headers={'Content-Type': 'application/json'},\n",
    "    data=data_json\n",
    ")"
   ]
  },
  {
   "cell_type": "code",
   "execution_count": 26,
   "id": "ea50de7a-df18-488d-8e16-235673026089",
   "metadata": {},
   "outputs": [
    {
     "data": {
      "text/plain": [
       "<Response [200]>"
      ]
     },
     "metadata": {},
     "output_type": "display_data"
    }
   ],
   "source": [
    "# Vérification du code status\n",
    "display(response)"
   ]
  },
  {
   "cell_type": "code",
   "execution_count": 27,
   "id": "06429319-4dac-400d-b7f4-7f966a98a0ec",
   "metadata": {},
   "outputs": [],
   "source": [
    "# DataFrame pour affichage des probabilités et accord ou non de crédit\n",
    "predictions = pd.DataFrame({'Customer id': sk_id_curr.values.tolist(), 'Failure probability': response.json()['prediction_proba'], 'Credit agreement': response.json()['prediction_class']})\n",
    "predictions['Credit agreement'] = predictions['Credit agreement'] == 0\n",
    "predictions['Failure probability'] = round(predictions['Failure probability'], 2)"
   ]
  },
  {
   "cell_type": "code",
   "execution_count": 28,
   "id": "ae08d756-e2c8-437c-b915-6c3ed8f05365",
   "metadata": {},
   "outputs": [
    {
     "data": {
      "text/html": [
       "<div>\n",
       "<style scoped>\n",
       "    .dataframe tbody tr th:only-of-type {\n",
       "        vertical-align: middle;\n",
       "    }\n",
       "\n",
       "    .dataframe tbody tr th {\n",
       "        vertical-align: top;\n",
       "    }\n",
       "\n",
       "    .dataframe thead th {\n",
       "        text-align: right;\n",
       "    }\n",
       "</style>\n",
       "<table border=\"1\" class=\"dataframe\">\n",
       "  <thead>\n",
       "    <tr style=\"text-align: right;\">\n",
       "      <th></th>\n",
       "      <th>Customer id</th>\n",
       "      <th>Failure probability</th>\n",
       "      <th>Credit agreement</th>\n",
       "    </tr>\n",
       "  </thead>\n",
       "  <tbody>\n",
       "    <tr>\n",
       "      <th>0</th>\n",
       "      <td>233783</td>\n",
       "      <td>0.83</td>\n",
       "      <td>False</td>\n",
       "    </tr>\n",
       "  </tbody>\n",
       "</table>\n",
       "</div>"
      ],
      "text/plain": [
       "   Customer id  Failure probability  Credit agreement\n",
       "0       233783                 0.83             False"
      ]
     },
     "metadata": {},
     "output_type": "display_data"
    }
   ],
   "source": [
    "# Affichage\n",
    "display(predictions)"
   ]
  },
  {
   "cell_type": "code",
   "execution_count": 29,
   "id": "a2724f8a-2d3a-4dfb-a406-a90848e55d4e",
   "metadata": {},
   "outputs": [],
   "source": [
    "# DataFrame pour affichage Feature importance locale\n",
    "local_fi = pd.DataFrame({'Feature': response.json()['feature_names'], 'Importance': response.json()['feature_importance'][0]})"
   ]
  },
  {
   "cell_type": "code",
   "execution_count": 30,
   "id": "3a39c462-145f-4790-965c-741f10253669",
   "metadata": {},
   "outputs": [
    {
     "data": {
      "text/html": [
       "<div>\n",
       "<style scoped>\n",
       "    .dataframe tbody tr th:only-of-type {\n",
       "        vertical-align: middle;\n",
       "    }\n",
       "\n",
       "    .dataframe tbody tr th {\n",
       "        vertical-align: top;\n",
       "    }\n",
       "\n",
       "    .dataframe thead th {\n",
       "        text-align: right;\n",
       "    }\n",
       "</style>\n",
       "<table border=\"1\" class=\"dataframe\">\n",
       "  <thead>\n",
       "    <tr style=\"text-align: right;\">\n",
       "      <th></th>\n",
       "      <th>Feature</th>\n",
       "      <th>Importance</th>\n",
       "    </tr>\n",
       "  </thead>\n",
       "  <tbody>\n",
       "    <tr>\n",
       "      <th>30</th>\n",
       "      <td>EXT_SOURCE_3</td>\n",
       "      <td>1.154449</td>\n",
       "    </tr>\n",
       "    <tr>\n",
       "      <th>244</th>\n",
       "      <td>CREDIT_TERM</td>\n",
       "      <td>0.398335</td>\n",
       "    </tr>\n",
       "    <tr>\n",
       "      <th>29</th>\n",
       "      <td>EXT_SOURCE_2</td>\n",
       "      <td>0.112790</td>\n",
       "    </tr>\n",
       "    <tr>\n",
       "      <th>7</th>\n",
       "      <td>AMT_GOODS_PRICE</td>\n",
       "      <td>0.098031</td>\n",
       "    </tr>\n",
       "    <tr>\n",
       "      <th>28</th>\n",
       "      <td>EXT_SOURCE_1</td>\n",
       "      <td>0.068190</td>\n",
       "    </tr>\n",
       "    <tr>\n",
       "      <th>77</th>\n",
       "      <td>DEF_60_CNT_SOCIAL_CIRCLE</td>\n",
       "      <td>0.060514</td>\n",
       "    </tr>\n",
       "    <tr>\n",
       "      <th>240</th>\n",
       "      <td>YEARS_BIRTH</td>\n",
       "      <td>-0.055377</td>\n",
       "    </tr>\n",
       "    <tr>\n",
       "      <th>11</th>\n",
       "      <td>OWN_CAR_AGE</td>\n",
       "      <td>0.055043</td>\n",
       "    </tr>\n",
       "    <tr>\n",
       "      <th>123</th>\n",
       "      <td>NAME_EDUCATION_TYPE_Highereducation</td>\n",
       "      <td>0.049574</td>\n",
       "    </tr>\n",
       "    <tr>\n",
       "      <th>10</th>\n",
       "      <td>DAYS_ID_PUBLISH</td>\n",
       "      <td>0.048980</td>\n",
       "    </tr>\n",
       "    <tr>\n",
       "      <th>239</th>\n",
       "      <td>YEARS_EMPLOYED</td>\n",
       "      <td>-0.045919</td>\n",
       "    </tr>\n",
       "    <tr>\n",
       "      <th>105</th>\n",
       "      <td>CODE_GENDER_M</td>\n",
       "      <td>-0.042946</td>\n",
       "    </tr>\n",
       "    <tr>\n",
       "      <th>128</th>\n",
       "      <td>NAME_FAMILY_STATUS_Married</td>\n",
       "      <td>0.038140</td>\n",
       "    </tr>\n",
       "    <tr>\n",
       "      <th>5</th>\n",
       "      <td>AMT_CREDIT</td>\n",
       "      <td>-0.034708</td>\n",
       "    </tr>\n",
       "    <tr>\n",
       "      <th>241</th>\n",
       "      <td>YEARS_LAST_PHONE_CHANGE</td>\n",
       "      <td>0.033809</td>\n",
       "    </tr>\n",
       "    <tr>\n",
       "      <th>75</th>\n",
       "      <td>DEF_30_CNT_SOCIAL_CIRCLE</td>\n",
       "      <td>0.032407</td>\n",
       "    </tr>\n",
       "    <tr>\n",
       "      <th>104</th>\n",
       "      <td>CODE_GENDER_F</td>\n",
       "      <td>-0.027550</td>\n",
       "    </tr>\n",
       "    <tr>\n",
       "      <th>103</th>\n",
       "      <td>AMT_REQ_CREDIT_BUREAU_YEAR</td>\n",
       "      <td>-0.026465</td>\n",
       "    </tr>\n",
       "    <tr>\n",
       "      <th>79</th>\n",
       "      <td>FLAG_DOCUMENT_3</td>\n",
       "      <td>0.023709</td>\n",
       "    </tr>\n",
       "    <tr>\n",
       "      <th>242</th>\n",
       "      <td>CREDIT_INCOME_PERCENT</td>\n",
       "      <td>-0.019875</td>\n",
       "    </tr>\n",
       "  </tbody>\n",
       "</table>\n",
       "</div>"
      ],
      "text/plain": [
       "                                 Feature  Importance\n",
       "30                          EXT_SOURCE_3    1.154449\n",
       "244                          CREDIT_TERM    0.398335\n",
       "29                          EXT_SOURCE_2    0.112790\n",
       "7                        AMT_GOODS_PRICE    0.098031\n",
       "28                          EXT_SOURCE_1    0.068190\n",
       "77              DEF_60_CNT_SOCIAL_CIRCLE    0.060514\n",
       "240                          YEARS_BIRTH   -0.055377\n",
       "11                           OWN_CAR_AGE    0.055043\n",
       "123  NAME_EDUCATION_TYPE_Highereducation    0.049574\n",
       "10                       DAYS_ID_PUBLISH    0.048980\n",
       "239                       YEARS_EMPLOYED   -0.045919\n",
       "105                        CODE_GENDER_M   -0.042946\n",
       "128           NAME_FAMILY_STATUS_Married    0.038140\n",
       "5                             AMT_CREDIT   -0.034708\n",
       "241              YEARS_LAST_PHONE_CHANGE    0.033809\n",
       "75              DEF_30_CNT_SOCIAL_CIRCLE    0.032407\n",
       "104                        CODE_GENDER_F   -0.027550\n",
       "103           AMT_REQ_CREDIT_BUREAU_YEAR   -0.026465\n",
       "79                       FLAG_DOCUMENT_3    0.023709\n",
       "242                CREDIT_INCOME_PERCENT   -0.019875"
      ]
     },
     "execution_count": 30,
     "metadata": {},
     "output_type": "execute_result"
    }
   ],
   "source": [
    "# Affichage des 20 features ayant eu le plus d'impact sur la prédiction\n",
    "local_fi.sort_values(by='Importance', key=np.abs, ascending=False).head(20)"
   ]
  },
  {
   "cell_type": "code",
   "execution_count": null,
   "id": "123259fb-c0f7-4ecb-ac40-5bc6e22e0e8e",
   "metadata": {},
   "outputs": [],
   "source": []
  }
 ],
 "metadata": {
  "kernelspec": {
   "display_name": "Python 3 (ipykernel)",
   "language": "python",
   "name": "python3"
  },
  "language_info": {
   "codemirror_mode": {
    "name": "ipython",
    "version": 3
   },
   "file_extension": ".py",
   "mimetype": "text/x-python",
   "name": "python",
   "nbconvert_exporter": "python",
   "pygments_lexer": "ipython3",
   "version": "3.12.4"
  }
 },
 "nbformat": 4,
 "nbformat_minor": 5
}
