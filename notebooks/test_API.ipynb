{
 "cells": [
  {
   "cell_type": "markdown",
   "id": "20c43a0e-372c-4af5-b2bb-2479e04121ba",
   "metadata": {},
   "source": [
    "# Réalisez un dashboard\n",
    "## Notebook - Test de l'API  \n",
    "OpenClassrooms - Parcours Data Scientist - Projet 08  "
   ]
  },
  {
   "cell_type": "markdown",
   "id": "eb4945b6-f98d-405a-b367-e70c1550c94c",
   "metadata": {},
   "source": [
    "__Ce notebook teste l'API en ligne :__  \n",
    "* Sélection d'un exemple dans le jeu de test  \n",
    "* Interrogation de l'API  \n",
    "* Affichage de la probabilité de défaut de remboursement\n",
    "* Affichage de l'accord ou non du crédit\n",
    "* Affichage des 20 éléments ayant eu le plus d'impact sur la prédiction"
   ]
  },
  {
   "cell_type": "code",
   "execution_count": 23,
   "id": "04b8e732-b522-44d3-815a-116be94dd2a2",
   "metadata": {},
   "outputs": [],
   "source": [
    "import pandas as pd\n",
    "import numpy as np\n",
    "import requests\n",
    "import json\n",
    "import os"
   ]
  },
  {
   "cell_type": "code",
   "execution_count": 24,
   "id": "c407b472-f27a-428a-94ac-79d1d22b0be6",
   "metadata": {},
   "outputs": [],
   "source": [
    "# Nombre d'exemples à tester\n",
    "n_samples = 1"
   ]
  },
  {
   "cell_type": "code",
   "execution_count": 25,
   "id": "cc2daba8-5138-4dfd-aa61-63755fa39747",
   "metadata": {},
   "outputs": [],
   "source": [
    "# Récupération des données de test\n",
    "base_dir = os.getcwd()\n",
    "df_test_path = os.path.join(base_dir, '..', '..', 'P08 - API', 'data', 'raw', 'application_test.csv')\n",
    "df_test = pd.read_csv(df_test_path)"
   ]
  },
  {
   "cell_type": "code",
   "execution_count": 26,
   "id": "4da0ca2a-b671-4bfd-b879-81eece956351",
   "metadata": {},
   "outputs": [],
   "source": [
    "# Récupération du seuil de classification\n",
    "threshold_path = os.path.join(base_dir, '..', '..', 'P08 - API', 'data', 'processed', 'best_threshold.txt')\n",
    "with open(threshold_path, 'r') as threshold_file:\n",
    "    best_threshold = float(threshold_file.read())"
   ]
  },
  {
   "cell_type": "code",
   "execution_count": 27,
   "id": "cf3048e5-dd0f-494d-ab10-3194688d1f49",
   "metadata": {},
   "outputs": [],
   "source": [
    "# Sélection aléatoire de n_samples exemples\n",
    "df_subset = df_test.sample(n_samples)"
   ]
  },
  {
   "cell_type": "code",
   "execution_count": 28,
   "id": "01e4dbf4-0f6b-4992-a5c4-3f5b564c46b9",
   "metadata": {},
   "outputs": [],
   "source": [
    "# Récupération des id clients\n",
    "sk_id_curr = df_subset['SK_ID_CURR'].astype('int')"
   ]
  },
  {
   "cell_type": "code",
   "execution_count": 29,
   "id": "39c63eab-2907-4c75-a6b4-f4f1e354d91a",
   "metadata": {},
   "outputs": [],
   "source": [
    "# Suppression des id clients du subset\n",
    "df_subset = df_subset.drop(columns='SK_ID_CURR')"
   ]
  },
  {
   "cell_type": "code",
   "execution_count": 30,
   "id": "fe499372-0ffd-4894-98f9-6cc87dcc7277",
   "metadata": {},
   "outputs": [],
   "source": [
    "# Remplacement des valeurs manquantes par None (JSON n'accepte pas les NaN)\n",
    "df_subset =  df_subset.map(lambda x: None if pd.isna(x) else x)"
   ]
  },
  {
   "cell_type": "code",
   "execution_count": 31,
   "id": "05938801-e03c-4e31-9602-8a7bd4691903",
   "metadata": {},
   "outputs": [],
   "source": [
    "# Conversion au format JSON\n",
    "data_json = json.dumps({\n",
    "    # \"columns\": df_subset.columns.tolist(),\n",
    "    \"data\": df_subset.values.tolist()}\n",
    ")"
   ]
  },
  {
   "cell_type": "code",
   "execution_count": 32,
   "id": "89235884-1424-4e30-a687-fd28569a6b07",
   "metadata": {},
   "outputs": [],
   "source": [
    "# Envoi de la requête POST à l'API\n",
    "heroku_url = 'https://failurescore-bc9f53f25e58.herokuapp.com/predict'\n",
    "local_url = 'http://127.0.0.1:5000/predict'\n",
    "response = requests.post(\n",
    "    heroku_url,\n",
    "    headers={'Content-Type': 'application/json'},\n",
    "    data=data_json\n",
    ")"
   ]
  },
  {
   "cell_type": "code",
   "execution_count": 33,
   "id": "ea50de7a-df18-488d-8e16-235673026089",
   "metadata": {},
   "outputs": [
    {
     "data": {
      "text/plain": [
       "<Response [500]>"
      ]
     },
     "metadata": {},
     "output_type": "display_data"
    }
   ],
   "source": [
    "# Vérification du code status\n",
    "display(response)"
   ]
  },
  {
   "cell_type": "code",
   "execution_count": 34,
   "id": "11a3601a-54d4-48ce-a846-c1e2fa14fcec",
   "metadata": {},
   "outputs": [
    {
     "data": {
      "text/html": [
       "<div>\n",
       "<style scoped>\n",
       "    .dataframe tbody tr th:only-of-type {\n",
       "        vertical-align: middle;\n",
       "    }\n",
       "\n",
       "    .dataframe tbody tr th {\n",
       "        vertical-align: top;\n",
       "    }\n",
       "\n",
       "    .dataframe thead th {\n",
       "        text-align: right;\n",
       "    }\n",
       "</style>\n",
       "<table border=\"1\" class=\"dataframe\">\n",
       "  <thead>\n",
       "    <tr style=\"text-align: right;\">\n",
       "      <th></th>\n",
       "      <th>NAME_CONTRACT_TYPE</th>\n",
       "      <th>CODE_GENDER</th>\n",
       "      <th>FLAG_OWN_CAR</th>\n",
       "      <th>FLAG_OWN_REALTY</th>\n",
       "      <th>CNT_CHILDREN</th>\n",
       "      <th>AMT_INCOME_TOTAL</th>\n",
       "      <th>AMT_CREDIT</th>\n",
       "      <th>AMT_ANNUITY</th>\n",
       "      <th>AMT_GOODS_PRICE</th>\n",
       "      <th>NAME_TYPE_SUITE</th>\n",
       "      <th>...</th>\n",
       "      <th>FLAG_DOCUMENT_18</th>\n",
       "      <th>FLAG_DOCUMENT_19</th>\n",
       "      <th>FLAG_DOCUMENT_20</th>\n",
       "      <th>FLAG_DOCUMENT_21</th>\n",
       "      <th>AMT_REQ_CREDIT_BUREAU_HOUR</th>\n",
       "      <th>AMT_REQ_CREDIT_BUREAU_DAY</th>\n",
       "      <th>AMT_REQ_CREDIT_BUREAU_WEEK</th>\n",
       "      <th>AMT_REQ_CREDIT_BUREAU_MON</th>\n",
       "      <th>AMT_REQ_CREDIT_BUREAU_QRT</th>\n",
       "      <th>AMT_REQ_CREDIT_BUREAU_YEAR</th>\n",
       "    </tr>\n",
       "  </thead>\n",
       "  <tbody>\n",
       "    <tr>\n",
       "      <th>40852</th>\n",
       "      <td>Cash loans</td>\n",
       "      <td>F</td>\n",
       "      <td>N</td>\n",
       "      <td>Y</td>\n",
       "      <td>0</td>\n",
       "      <td>90000.0</td>\n",
       "      <td>327249.0</td>\n",
       "      <td>26365.5</td>\n",
       "      <td>292500.0</td>\n",
       "      <td>Family</td>\n",
       "      <td>...</td>\n",
       "      <td>0</td>\n",
       "      <td>0</td>\n",
       "      <td>0</td>\n",
       "      <td>0</td>\n",
       "      <td>0.0</td>\n",
       "      <td>0.0</td>\n",
       "      <td>0.0</td>\n",
       "      <td>0.0</td>\n",
       "      <td>1.0</td>\n",
       "      <td>2.0</td>\n",
       "    </tr>\n",
       "  </tbody>\n",
       "</table>\n",
       "<p>1 rows × 120 columns</p>\n",
       "</div>"
      ],
      "text/plain": [
       "      NAME_CONTRACT_TYPE CODE_GENDER FLAG_OWN_CAR FLAG_OWN_REALTY  \\\n",
       "40852         Cash loans           F            N               Y   \n",
       "\n",
       "       CNT_CHILDREN  AMT_INCOME_TOTAL  AMT_CREDIT  AMT_ANNUITY  \\\n",
       "40852             0           90000.0    327249.0      26365.5   \n",
       "\n",
       "       AMT_GOODS_PRICE NAME_TYPE_SUITE  ... FLAG_DOCUMENT_18 FLAG_DOCUMENT_19  \\\n",
       "40852         292500.0          Family  ...                0                0   \n",
       "\n",
       "      FLAG_DOCUMENT_20 FLAG_DOCUMENT_21  AMT_REQ_CREDIT_BUREAU_HOUR  \\\n",
       "40852                0                0                         0.0   \n",
       "\n",
       "       AMT_REQ_CREDIT_BUREAU_DAY  AMT_REQ_CREDIT_BUREAU_WEEK  \\\n",
       "40852                        0.0                         0.0   \n",
       "\n",
       "       AMT_REQ_CREDIT_BUREAU_MON  AMT_REQ_CREDIT_BUREAU_QRT  \\\n",
       "40852                        0.0                        1.0   \n",
       "\n",
       "      AMT_REQ_CREDIT_BUREAU_YEAR  \n",
       "40852                        2.0  \n",
       "\n",
       "[1 rows x 120 columns]"
      ]
     },
     "execution_count": 34,
     "metadata": {},
     "output_type": "execute_result"
    }
   ],
   "source": [
    "df_subset"
   ]
  },
  {
   "cell_type": "code",
   "execution_count": null,
   "id": "06429319-4dac-400d-b7f4-7f966a98a0ec",
   "metadata": {},
   "outputs": [],
   "source": [
    "# DataFrame pour affichage des probabilités et accord ou non de crédit\n",
    "predictions = pd.DataFrame({'Customer id': sk_id_curr.values.tolist(), 'Failure probability': response.json()['prediction_proba'], 'Credit agreement': response.json()['prediction_class']})\n",
    "predictions['Credit agreement'] = predictions['Credit agreement'] == 0\n",
    "predictions['Failure probability'] = round(predictions['Failure probability'], 2)"
   ]
  },
  {
   "cell_type": "code",
   "execution_count": null,
   "id": "ae08d756-e2c8-437c-b915-6c3ed8f05365",
   "metadata": {},
   "outputs": [],
   "source": [
    "# Affichage\n",
    "display(predictions)"
   ]
  },
  {
   "cell_type": "code",
   "execution_count": 35,
   "id": "123259fb-c0f7-4ecb-ac40-5bc6e22e0e8e",
   "metadata": {},
   "outputs": [
    {
     "data": {
      "text/plain": [
       "'{\"data\": [[\"Cash loans\", \"F\", \"N\", \"Y\", 0, 90000.0, 327249.0, 26365.5, 292500.0, \"Family\", \"Working\", \"Secondary / secondary special\", \"Married\", \"House / apartment\", 0.014464, -16000, -3373, -9251.0, -5747, null, 1, 1, 0, 1, 0, 0, \"Laborers\", 2.0, 2, 2, \"TUESDAY\", 7, 0, 0, 0, 0, 0, 0, \"Agriculture\", 0.2774370278715383, 0.4960056678294886, null, 0.0062, null, 0.9677, null, null, null, null, 0.0, null, 0.0544, null, 0.004, null, null, 0.0063, null, 0.9677, null, null, null, null, 0.0, null, 0.0556, null, 0.0042, null, null, 0.0062, null, 0.9677, null, null, null, null, 0.0, null, 0.0553, null, 0.0041, null, null, null, \"block of flats\", 0.0031, \"Monolithic\", \"No\", 0.0, 0.0, 0.0, 0.0, 0.0, 0, 1, 0, 0, 0, 0, 0, 0, 0, 0, 0, 0, 0, 0, 0, 0, 0, 0, 0, 0, 0.0, 0.0, 0.0, 0.0, 1.0, 2.0]]}'"
      ]
     },
     "execution_count": 35,
     "metadata": {},
     "output_type": "execute_result"
    }
   ],
   "source": [
    "data_json"
   ]
  }
 ],
 "metadata": {
  "kernelspec": {
   "display_name": "Python 3 (ipykernel)",
   "language": "python",
   "name": "python3"
  },
  "language_info": {
   "codemirror_mode": {
    "name": "ipython",
    "version": 3
   },
   "file_extension": ".py",
   "mimetype": "text/x-python",
   "name": "python",
   "nbconvert_exporter": "python",
   "pygments_lexer": "ipython3",
   "version": "3.12.4"
  }
 },
 "nbformat": 4,
 "nbformat_minor": 5
}
